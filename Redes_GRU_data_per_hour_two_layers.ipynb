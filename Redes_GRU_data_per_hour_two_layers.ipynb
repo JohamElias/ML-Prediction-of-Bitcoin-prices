{
 "cells": [
  {
   "cell_type": "markdown",
   "metadata": {
    "id": "OOuHtDJg7OML"
   },
   "source": [
    "Objetivo de este modelo base: El objetivo de este proyecto es desarrollar un modelo de predicción de precios de Bitcoin con métodos de aprendizaje automático utilizando datos de series temporales. Empleando algoritmos como la regresión lineal y las máquinas de soporte vectorial (SVM) con diferentes funciones de núcleo y parámetros, el proyecto busca identificar el modelo que minimice el error en la predicción de precios de cierre de Bitcoin."
   ]
  },
  {
   "cell_type": "code",
   "execution_count": 1,
   "metadata": {
    "id": "N-Q0loiT5kq2"
   },
   "outputs": [],
   "source": [
    "import pandas as pd\n",
    "import numpy as np\n",
    "from sklearn.model_selection import train_test_split\n",
    "from sklearn.linear_model import LinearRegression\n",
    "from sklearn.svm import SVR\n",
    "import matplotlib.dates as mdates\n",
    "from sklearn.metrics import mean_squared_error, mean_absolute_error\n",
    "from sklearn.preprocessing import StandardScaler\n",
    "from datetime import datetime\n",
    "import matplotlib.pyplot as plt\n",
    "from sklearn.preprocessing import MinMaxScaler"
   ]
  },
  {
   "cell_type": "code",
   "execution_count": 3,
   "metadata": {
    "id": "V90lATqy85X3"
   },
   "outputs": [],
   "source": [
    "df_daily = pd.read_csv('bitcoin_2017_to_2023.csv', parse_dates=['timestamp'])\n",
    "df_daily.set_index('timestamp', inplace=True)\n",
    "\n",
    "daily_data = df_daily.resample('D').agg({\n",
    "    'open': 'first',\n",
    "    'high': 'max',\n",
    "    'low': 'min',\n",
    "    'close': 'last',\n",
    "    'volume': 'sum',\n",
    "    'quote_asset_volume': 'sum',\n",
    "    'number_of_trades': 'sum',\n",
    "    'taker_buy_base_asset_volume': 'sum',\n",
    "    'taker_buy_quote_asset_volume': 'sum'\n",
    "})"
   ]
  },
  {
   "cell_type": "code",
   "execution_count": 4,
   "metadata": {
    "colab": {
     "base_uri": "https://localhost:8080/"
    },
    "id": "nqYIgM4wkXGW",
    "outputId": "a2ad8213-256b-4e51-945e-eb0b372b7919"
   },
   "outputs": [
    {
     "name": "stderr",
     "output_type": "stream",
     "text": [
      "<ipython-input-4-3cb28ced6d85>:4: FutureWarning: 'H' is deprecated and will be removed in a future version, please use 'h' instead.\n",
      "  hourly_data = df_hourly.resample('H').agg({\n"
     ]
    }
   ],
   "source": [
    "df_hourly = pd.read_csv('bitcoin_2017_to_2023.csv', parse_dates=['timestamp'])\n",
    "df_hourly.set_index('timestamp', inplace=True)\n",
    "\n",
    "hourly_data = df_hourly.resample('H').agg({\n",
    "    'open': 'first',\n",
    "    'high': 'max',\n",
    "    'low': 'min',\n",
    "    'close': 'last',\n",
    "    'volume': 'sum',\n",
    "    'quote_asset_volume': 'sum',\n",
    "    'number_of_trades': 'sum',\n",
    "    'taker_buy_base_asset_volume': 'sum',\n",
    "    'taker_buy_quote_asset_volume': 'sum'\n",
    "})"
   ]
  },
  {
   "cell_type": "code",
   "execution_count": 5,
   "metadata": {
    "colab": {
     "base_uri": "https://localhost:8080/"
    },
    "id": "HIApklvyk_AP",
    "outputId": "6f83f5e5-1319-4e97-8d67-1a51f9dd7487"
   },
   "outputs": [
    {
     "data": {
      "text/plain": [
       "((2176, 9), (52210, 9))"
      ]
     },
     "execution_count": 5,
     "metadata": {},
     "output_type": "execute_result"
    }
   ],
   "source": [
    "daily_data.shape, hourly_data.shape"
   ]
  },
  {
   "cell_type": "code",
   "execution_count": 8,
   "metadata": {
    "id": "f5BK_nKVkggV"
   },
   "outputs": [],
   "source": [
    "hourly_data['hour'] = hourly_data.index.hour"
   ]
  },
  {
   "cell_type": "code",
   "execution_count": 66,
   "metadata": {
    "colab": {
     "base_uri": "https://localhost:8080/"
    },
    "id": "1YF9NksksA8U",
    "outputId": "7497345e-8abd-42bf-b32d-3db06b601483"
   },
   "outputs": [
    {
     "data": {
      "text/plain": [
       "1440"
      ]
     },
     "execution_count": 66,
     "metadata": {},
     "output_type": "execute_result"
    }
   ],
   "source": [
    "60* 24"
   ]
  },
  {
   "cell_type": "code",
   "execution_count": 67,
   "metadata": {
    "colab": {
     "base_uri": "https://localhost:8080/"
    },
    "id": "yfgU4dcalqse",
    "outputId": "235117cc-81d4-489a-c94f-b33dba3bb3ae"
   },
   "outputs": [
    {
     "data": {
      "text/plain": [
       "((50770, 10), (1440, 10))"
      ]
     },
     "execution_count": 67,
     "metadata": {},
     "output_type": "execute_result"
    }
   ],
   "source": [
    "prediction_days = 60 * 24\n",
    "train_set = hourly_data[:len(hourly_data)-prediction_days]\n",
    "test_set = hourly_data[len(hourly_data)-prediction_days:]\n",
    "train_set.shape, test_set.shape"
   ]
  },
  {
   "cell_type": "code",
   "execution_count": 68,
   "metadata": {
    "colab": {
     "base_uri": "https://localhost:8080/"
    },
    "id": "TYLhIt-4o8Zp",
    "outputId": "e09f1f4a-5724-40eb-8e49-42797910d4ed"
   },
   "outputs": [
    {
     "data": {
      "text/plain": [
       "((50642, 10), (1440, 10))"
      ]
     },
     "execution_count": 68,
     "metadata": {},
     "output_type": "execute_result"
    }
   ],
   "source": [
    "train_set = train_set.dropna()\n",
    "test_set = test_set.dropna()\n",
    "train_set.shape, test_set.shape"
   ]
  },
  {
   "cell_type": "code",
   "execution_count": 69,
   "metadata": {
    "id": "VLLuWauOnhnW"
   },
   "outputs": [],
   "source": [
    "X_train = train_set[['open', 'high', 'low', 'volume', 'quote_asset_volume', 'number_of_trades',\n",
    "        'taker_buy_base_asset_volume', 'taker_buy_quote_asset_volume','hour']]\n",
    "y_train = train_set['close'].shift(-1)"
   ]
  },
  {
   "cell_type": "code",
   "execution_count": 70,
   "metadata": {
    "id": "h2NKrSN-pbFH"
   },
   "outputs": [],
   "source": [
    "y_train = y_train.dropna()\n",
    "X_train = X_train.loc[y_train.index]"
   ]
  },
  {
   "cell_type": "code",
   "execution_count": 71,
   "metadata": {
    "id": "bgXXiuXIn_IP"
   },
   "outputs": [],
   "source": [
    "X_test = test_set[['open', 'high', 'low', 'volume', 'quote_asset_volume', 'number_of_trades',\n",
    "        'taker_buy_base_asset_volume', 'taker_buy_quote_asset_volume','hour']]\n",
    "y_test = test_set['close'].shift(-1)"
   ]
  },
  {
   "cell_type": "code",
   "execution_count": 72,
   "metadata": {
    "id": "xDyJXIRNpg6q"
   },
   "outputs": [],
   "source": [
    "y_test = y_test.dropna()\n",
    "X_test = X_test.loc[y_test.index]"
   ]
  },
  {
   "cell_type": "code",
   "execution_count": 89,
   "metadata": {
    "colab": {
     "base_uri": "https://localhost:8080/",
     "height": 455
    },
    "id": "-iG1OTXWyEwx",
    "outputId": "010d55cc-a4e5-4fdb-f011-133d287ccd43"
   },
   "outputs": [
    {
     "data": {
      "application/vnd.google.colaboratory.intrinsic+json": {
       "summary": "{\n  \"name\": \"X_test\",\n  \"rows\": 1439,\n  \"fields\": [\n    {\n      \"column\": \"timestamp\",\n      \"properties\": {\n        \"dtype\": \"date\",\n        \"min\": \"2023-06-02 14:00:00\",\n        \"max\": \"2023-08-01 12:00:00\",\n        \"num_unique_values\": 1439,\n        \"samples\": [\n          \"2023-06-09 14:00:00\",\n          \"2023-06-27 19:00:00\",\n          \"2023-06-25 10:00:00\"\n        ],\n        \"semantic_type\": \"\",\n        \"description\": \"\"\n      }\n    },\n    {\n      \"column\": \"open\",\n      \"properties\": {\n        \"dtype\": \"number\",\n        \"std\": 1847.0517718525873,\n        \"min\": 24923.51,\n        \"max\": 31606.0,\n        \"num_unique_values\": 1420,\n        \"samples\": [\n          27170.66,\n          25986.74,\n          30476.68\n        ],\n        \"semantic_type\": \"\",\n        \"description\": \"\"\n      }\n    },\n    {\n      \"column\": \"high\",\n      \"properties\": {\n        \"dtype\": \"number\",\n        \"std\": 1847.9990836415311,\n        \"min\": 24975.17,\n        \"max\": 31804.2,\n        \"num_unique_values\": 1385,\n        \"samples\": [\n          29909.08,\n          25905.23,\n          26699.99\n        ],\n        \"semantic_type\": \"\",\n        \"description\": \"\"\n      }\n    },\n    {\n      \"column\": \"low\",\n      \"properties\": {\n        \"dtype\": \"number\",\n        \"std\": 1845.4249881498877,\n        \"min\": 24800.0,\n        \"max\": 31401.64,\n        \"num_unique_values\": 1388,\n        \"samples\": [\n          30610.01,\n          25740.02,\n          27001.73\n        ],\n        \"semantic_type\": \"\",\n        \"description\": \"\"\n      }\n    },\n    {\n      \"column\": \"volume\",\n      \"properties\": {\n        \"dtype\": \"number\",\n        \"std\": 1748.5841565548735,\n        \"min\": 132.65228,\n        \"max\": 18824.0601,\n        \"num_unique_values\": 1439,\n        \"samples\": [\n          1793.16256,\n          931.40904,\n          934.08771\n        ],\n        \"semantic_type\": \"\",\n        \"description\": \"\"\n      }\n    },\n    {\n      \"column\": \"quote_asset_volume\",\n      \"properties\": {\n        \"dtype\": \"number\",\n        \"std\": 50920907.20854376,\n        \"min\": 3888854.8177359,\n        \"max\": 568592910.2173816,\n        \"num_unique_values\": 1439,\n        \"samples\": [\n          47732735.7047216,\n          28580581.1314922,\n          28623215.0924976\n        ],\n        \"semantic_type\": \"\",\n        \"description\": \"\"\n      }\n    },\n    {\n      \"column\": \"number_of_trades\",\n      \"properties\": {\n        \"dtype\": \"number\",\n        \"std\": 28665,\n        \"min\": 8666,\n        \"max\": 315432,\n        \"num_unique_values\": 1408,\n        \"samples\": [\n          37876,\n          23192,\n          16591\n        ],\n        \"semantic_type\": \"\",\n        \"description\": \"\"\n      }\n    },\n    {\n      \"column\": \"taker_buy_base_asset_volume\",\n      \"properties\": {\n        \"dtype\": \"number\",\n        \"std\": 874.9812054512413,\n        \"min\": 51.1226,\n        \"max\": 9341.06572,\n        \"num_unique_values\": 1439,\n        \"samples\": [\n          833.0613000000001,\n          374.32919,\n          463.36997\n        ],\n        \"semantic_type\": \"\",\n        \"description\": \"\"\n      }\n    },\n    {\n      \"column\": \"taker_buy_quote_asset_volume\",\n      \"properties\": {\n        \"dtype\": \"number\",\n        \"std\": 25563646.22849692,\n        \"min\": 1498707.2909878,\n        \"max\": 288092738.4421186,\n        \"num_unique_values\": 1439,\n        \"samples\": [\n          22173090.0678441,\n          11486062.9036473,\n          14198802.2892479\n        ],\n        \"semantic_type\": \"\",\n        \"description\": \"\"\n      }\n    },\n    {\n      \"column\": \"hour\",\n      \"properties\": {\n        \"dtype\": \"int32\",\n        \"num_unique_values\": 24,\n        \"samples\": [\n          22,\n          6,\n          14\n        ],\n        \"semantic_type\": \"\",\n        \"description\": \"\"\n      }\n    }\n  ]\n}",
       "type": "dataframe",
       "variable_name": "X_test"
      },
      "text/html": [
       "\n",
       "  <div id=\"df-1f42337d-9fe5-41e8-b576-039d1a37ac64\" class=\"colab-df-container\">\n",
       "    <div>\n",
       "<style scoped>\n",
       "    .dataframe tbody tr th:only-of-type {\n",
       "        vertical-align: middle;\n",
       "    }\n",
       "\n",
       "    .dataframe tbody tr th {\n",
       "        vertical-align: top;\n",
       "    }\n",
       "\n",
       "    .dataframe thead th {\n",
       "        text-align: right;\n",
       "    }\n",
       "</style>\n",
       "<table border=\"1\" class=\"dataframe\">\n",
       "  <thead>\n",
       "    <tr style=\"text-align: right;\">\n",
       "      <th></th>\n",
       "      <th>open</th>\n",
       "      <th>high</th>\n",
       "      <th>low</th>\n",
       "      <th>volume</th>\n",
       "      <th>quote_asset_volume</th>\n",
       "      <th>number_of_trades</th>\n",
       "      <th>taker_buy_base_asset_volume</th>\n",
       "      <th>taker_buy_quote_asset_volume</th>\n",
       "      <th>hour</th>\n",
       "    </tr>\n",
       "    <tr>\n",
       "      <th>timestamp</th>\n",
       "      <th></th>\n",
       "      <th></th>\n",
       "      <th></th>\n",
       "      <th></th>\n",
       "      <th></th>\n",
       "      <th></th>\n",
       "      <th></th>\n",
       "      <th></th>\n",
       "      <th></th>\n",
       "    </tr>\n",
       "  </thead>\n",
       "  <tbody>\n",
       "    <tr>\n",
       "      <th>2023-06-02 14:00:00</th>\n",
       "      <td>26908.85</td>\n",
       "      <td>26986.08</td>\n",
       "      <td>26890.00</td>\n",
       "      <td>1685.83953</td>\n",
       "      <td>4.541820e+07</td>\n",
       "      <td>39244</td>\n",
       "      <td>905.23901</td>\n",
       "      <td>2.438875e+07</td>\n",
       "      <td>14</td>\n",
       "    </tr>\n",
       "    <tr>\n",
       "      <th>2023-06-02 15:00:00</th>\n",
       "      <td>26964.75</td>\n",
       "      <td>27107.34</td>\n",
       "      <td>26962.99</td>\n",
       "      <td>1248.06997</td>\n",
       "      <td>3.372657e+07</td>\n",
       "      <td>32129</td>\n",
       "      <td>664.48891</td>\n",
       "      <td>1.795662e+07</td>\n",
       "      <td>15</td>\n",
       "    </tr>\n",
       "    <tr>\n",
       "      <th>2023-06-02 16:00:00</th>\n",
       "      <td>27095.93</td>\n",
       "      <td>27120.02</td>\n",
       "      <td>27032.93</td>\n",
       "      <td>1402.81796</td>\n",
       "      <td>3.797328e+07</td>\n",
       "      <td>32265</td>\n",
       "      <td>691.10548</td>\n",
       "      <td>1.870719e+07</td>\n",
       "      <td>16</td>\n",
       "    </tr>\n",
       "    <tr>\n",
       "      <th>2023-06-02 17:00:00</th>\n",
       "      <td>27056.06</td>\n",
       "      <td>27093.82</td>\n",
       "      <td>27023.58</td>\n",
       "      <td>952.23822</td>\n",
       "      <td>2.577074e+07</td>\n",
       "      <td>24896</td>\n",
       "      <td>406.38239</td>\n",
       "      <td>1.099782e+07</td>\n",
       "      <td>17</td>\n",
       "    </tr>\n",
       "    <tr>\n",
       "      <th>2023-06-02 18:00:00</th>\n",
       "      <td>27057.57</td>\n",
       "      <td>27193.62</td>\n",
       "      <td>27006.22</td>\n",
       "      <td>1502.23473</td>\n",
       "      <td>4.070083e+07</td>\n",
       "      <td>39661</td>\n",
       "      <td>822.15579</td>\n",
       "      <td>2.227701e+07</td>\n",
       "      <td>18</td>\n",
       "    </tr>\n",
       "    <tr>\n",
       "      <th>...</th>\n",
       "      <td>...</td>\n",
       "      <td>...</td>\n",
       "      <td>...</td>\n",
       "      <td>...</td>\n",
       "      <td>...</td>\n",
       "      <td>...</td>\n",
       "      <td>...</td>\n",
       "      <td>...</td>\n",
       "      <td>...</td>\n",
       "    </tr>\n",
       "    <tr>\n",
       "      <th>2023-08-01 08:00:00</th>\n",
       "      <td>28937.31</td>\n",
       "      <td>28994.91</td>\n",
       "      <td>28907.04</td>\n",
       "      <td>1025.98215</td>\n",
       "      <td>2.969904e+07</td>\n",
       "      <td>21442</td>\n",
       "      <td>535.91879</td>\n",
       "      <td>1.551395e+07</td>\n",
       "      <td>8</td>\n",
       "    </tr>\n",
       "    <tr>\n",
       "      <th>2023-08-01 09:00:00</th>\n",
       "      <td>28994.91</td>\n",
       "      <td>28995.59</td>\n",
       "      <td>28926.82</td>\n",
       "      <td>701.68997</td>\n",
       "      <td>2.031670e+07</td>\n",
       "      <td>18388</td>\n",
       "      <td>272.62159</td>\n",
       "      <td>7.893029e+06</td>\n",
       "      <td>9</td>\n",
       "    </tr>\n",
       "    <tr>\n",
       "      <th>2023-08-01 10:00:00</th>\n",
       "      <td>28928.36</td>\n",
       "      <td>28946.00</td>\n",
       "      <td>28900.00</td>\n",
       "      <td>1026.03779</td>\n",
       "      <td>2.967131e+07</td>\n",
       "      <td>20151</td>\n",
       "      <td>319.02408</td>\n",
       "      <td>9.226202e+06</td>\n",
       "      <td>10</td>\n",
       "    </tr>\n",
       "    <tr>\n",
       "      <th>2023-08-01 11:00:00</th>\n",
       "      <td>28928.02</td>\n",
       "      <td>28930.57</td>\n",
       "      <td>28862.18</td>\n",
       "      <td>891.02253</td>\n",
       "      <td>2.574221e+07</td>\n",
       "      <td>22005</td>\n",
       "      <td>354.41154</td>\n",
       "      <td>1.023926e+07</td>\n",
       "      <td>11</td>\n",
       "    </tr>\n",
       "    <tr>\n",
       "      <th>2023-08-01 12:00:00</th>\n",
       "      <td>28862.19</td>\n",
       "      <td>28927.50</td>\n",
       "      <td>28753.74</td>\n",
       "      <td>1913.25397</td>\n",
       "      <td>5.523307e+07</td>\n",
       "      <td>41270</td>\n",
       "      <td>981.18141</td>\n",
       "      <td>2.833167e+07</td>\n",
       "      <td>12</td>\n",
       "    </tr>\n",
       "  </tbody>\n",
       "</table>\n",
       "<p>1439 rows × 9 columns</p>\n",
       "</div>\n",
       "    <div class=\"colab-df-buttons\">\n",
       "\n",
       "  <div class=\"colab-df-container\">\n",
       "    <button class=\"colab-df-convert\" onclick=\"convertToInteractive('df-1f42337d-9fe5-41e8-b576-039d1a37ac64')\"\n",
       "            title=\"Convert this dataframe to an interactive table.\"\n",
       "            style=\"display:none;\">\n",
       "\n",
       "  <svg xmlns=\"http://www.w3.org/2000/svg\" height=\"24px\" viewBox=\"0 -960 960 960\">\n",
       "    <path d=\"M120-120v-720h720v720H120Zm60-500h600v-160H180v160Zm220 220h160v-160H400v160Zm0 220h160v-160H400v160ZM180-400h160v-160H180v160Zm440 0h160v-160H620v160ZM180-180h160v-160H180v160Zm440 0h160v-160H620v160Z\"/>\n",
       "  </svg>\n",
       "    </button>\n",
       "\n",
       "  <style>\n",
       "    .colab-df-container {\n",
       "      display:flex;\n",
       "      gap: 12px;\n",
       "    }\n",
       "\n",
       "    .colab-df-convert {\n",
       "      background-color: #E8F0FE;\n",
       "      border: none;\n",
       "      border-radius: 50%;\n",
       "      cursor: pointer;\n",
       "      display: none;\n",
       "      fill: #1967D2;\n",
       "      height: 32px;\n",
       "      padding: 0 0 0 0;\n",
       "      width: 32px;\n",
       "    }\n",
       "\n",
       "    .colab-df-convert:hover {\n",
       "      background-color: #E2EBFA;\n",
       "      box-shadow: 0px 1px 2px rgba(60, 64, 67, 0.3), 0px 1px 3px 1px rgba(60, 64, 67, 0.15);\n",
       "      fill: #174EA6;\n",
       "    }\n",
       "\n",
       "    .colab-df-buttons div {\n",
       "      margin-bottom: 4px;\n",
       "    }\n",
       "\n",
       "    [theme=dark] .colab-df-convert {\n",
       "      background-color: #3B4455;\n",
       "      fill: #D2E3FC;\n",
       "    }\n",
       "\n",
       "    [theme=dark] .colab-df-convert:hover {\n",
       "      background-color: #434B5C;\n",
       "      box-shadow: 0px 1px 3px 1px rgba(0, 0, 0, 0.15);\n",
       "      filter: drop-shadow(0px 1px 2px rgba(0, 0, 0, 0.3));\n",
       "      fill: #FFFFFF;\n",
       "    }\n",
       "  </style>\n",
       "\n",
       "    <script>\n",
       "      const buttonEl =\n",
       "        document.querySelector('#df-1f42337d-9fe5-41e8-b576-039d1a37ac64 button.colab-df-convert');\n",
       "      buttonEl.style.display =\n",
       "        google.colab.kernel.accessAllowed ? 'block' : 'none';\n",
       "\n",
       "      async function convertToInteractive(key) {\n",
       "        const element = document.querySelector('#df-1f42337d-9fe5-41e8-b576-039d1a37ac64');\n",
       "        const dataTable =\n",
       "          await google.colab.kernel.invokeFunction('convertToInteractive',\n",
       "                                                    [key], {});\n",
       "        if (!dataTable) return;\n",
       "\n",
       "        const docLinkHtml = 'Like what you see? Visit the ' +\n",
       "          '<a target=\"_blank\" href=https://colab.research.google.com/notebooks/data_table.ipynb>data table notebook</a>'\n",
       "          + ' to learn more about interactive tables.';\n",
       "        element.innerHTML = '';\n",
       "        dataTable['output_type'] = 'display_data';\n",
       "        await google.colab.output.renderOutput(dataTable, element);\n",
       "        const docLink = document.createElement('div');\n",
       "        docLink.innerHTML = docLinkHtml;\n",
       "        element.appendChild(docLink);\n",
       "      }\n",
       "    </script>\n",
       "  </div>\n",
       "\n",
       "\n",
       "<div id=\"df-94217ec5-d1d3-4c32-b2af-a87896c94e68\">\n",
       "  <button class=\"colab-df-quickchart\" onclick=\"quickchart('df-94217ec5-d1d3-4c32-b2af-a87896c94e68')\"\n",
       "            title=\"Suggest charts\"\n",
       "            style=\"display:none;\">\n",
       "\n",
       "<svg xmlns=\"http://www.w3.org/2000/svg\" height=\"24px\"viewBox=\"0 0 24 24\"\n",
       "     width=\"24px\">\n",
       "    <g>\n",
       "        <path d=\"M19 3H5c-1.1 0-2 .9-2 2v14c0 1.1.9 2 2 2h14c1.1 0 2-.9 2-2V5c0-1.1-.9-2-2-2zM9 17H7v-7h2v7zm4 0h-2V7h2v10zm4 0h-2v-4h2v4z\"/>\n",
       "    </g>\n",
       "</svg>\n",
       "  </button>\n",
       "\n",
       "<style>\n",
       "  .colab-df-quickchart {\n",
       "      --bg-color: #E8F0FE;\n",
       "      --fill-color: #1967D2;\n",
       "      --hover-bg-color: #E2EBFA;\n",
       "      --hover-fill-color: #174EA6;\n",
       "      --disabled-fill-color: #AAA;\n",
       "      --disabled-bg-color: #DDD;\n",
       "  }\n",
       "\n",
       "  [theme=dark] .colab-df-quickchart {\n",
       "      --bg-color: #3B4455;\n",
       "      --fill-color: #D2E3FC;\n",
       "      --hover-bg-color: #434B5C;\n",
       "      --hover-fill-color: #FFFFFF;\n",
       "      --disabled-bg-color: #3B4455;\n",
       "      --disabled-fill-color: #666;\n",
       "  }\n",
       "\n",
       "  .colab-df-quickchart {\n",
       "    background-color: var(--bg-color);\n",
       "    border: none;\n",
       "    border-radius: 50%;\n",
       "    cursor: pointer;\n",
       "    display: none;\n",
       "    fill: var(--fill-color);\n",
       "    height: 32px;\n",
       "    padding: 0;\n",
       "    width: 32px;\n",
       "  }\n",
       "\n",
       "  .colab-df-quickchart:hover {\n",
       "    background-color: var(--hover-bg-color);\n",
       "    box-shadow: 0 1px 2px rgba(60, 64, 67, 0.3), 0 1px 3px 1px rgba(60, 64, 67, 0.15);\n",
       "    fill: var(--button-hover-fill-color);\n",
       "  }\n",
       "\n",
       "  .colab-df-quickchart-complete:disabled,\n",
       "  .colab-df-quickchart-complete:disabled:hover {\n",
       "    background-color: var(--disabled-bg-color);\n",
       "    fill: var(--disabled-fill-color);\n",
       "    box-shadow: none;\n",
       "  }\n",
       "\n",
       "  .colab-df-spinner {\n",
       "    border: 2px solid var(--fill-color);\n",
       "    border-color: transparent;\n",
       "    border-bottom-color: var(--fill-color);\n",
       "    animation:\n",
       "      spin 1s steps(1) infinite;\n",
       "  }\n",
       "\n",
       "  @keyframes spin {\n",
       "    0% {\n",
       "      border-color: transparent;\n",
       "      border-bottom-color: var(--fill-color);\n",
       "      border-left-color: var(--fill-color);\n",
       "    }\n",
       "    20% {\n",
       "      border-color: transparent;\n",
       "      border-left-color: var(--fill-color);\n",
       "      border-top-color: var(--fill-color);\n",
       "    }\n",
       "    30% {\n",
       "      border-color: transparent;\n",
       "      border-left-color: var(--fill-color);\n",
       "      border-top-color: var(--fill-color);\n",
       "      border-right-color: var(--fill-color);\n",
       "    }\n",
       "    40% {\n",
       "      border-color: transparent;\n",
       "      border-right-color: var(--fill-color);\n",
       "      border-top-color: var(--fill-color);\n",
       "    }\n",
       "    60% {\n",
       "      border-color: transparent;\n",
       "      border-right-color: var(--fill-color);\n",
       "    }\n",
       "    80% {\n",
       "      border-color: transparent;\n",
       "      border-right-color: var(--fill-color);\n",
       "      border-bottom-color: var(--fill-color);\n",
       "    }\n",
       "    90% {\n",
       "      border-color: transparent;\n",
       "      border-bottom-color: var(--fill-color);\n",
       "    }\n",
       "  }\n",
       "</style>\n",
       "\n",
       "  <script>\n",
       "    async function quickchart(key) {\n",
       "      const quickchartButtonEl =\n",
       "        document.querySelector('#' + key + ' button');\n",
       "      quickchartButtonEl.disabled = true;  // To prevent multiple clicks.\n",
       "      quickchartButtonEl.classList.add('colab-df-spinner');\n",
       "      try {\n",
       "        const charts = await google.colab.kernel.invokeFunction(\n",
       "            'suggestCharts', [key], {});\n",
       "      } catch (error) {\n",
       "        console.error('Error during call to suggestCharts:', error);\n",
       "      }\n",
       "      quickchartButtonEl.classList.remove('colab-df-spinner');\n",
       "      quickchartButtonEl.classList.add('colab-df-quickchart-complete');\n",
       "    }\n",
       "    (() => {\n",
       "      let quickchartButtonEl =\n",
       "        document.querySelector('#df-94217ec5-d1d3-4c32-b2af-a87896c94e68 button');\n",
       "      quickchartButtonEl.style.display =\n",
       "        google.colab.kernel.accessAllowed ? 'block' : 'none';\n",
       "    })();\n",
       "  </script>\n",
       "</div>\n",
       "\n",
       "  <div id=\"id_ea9eaf72-ed8b-4821-a2ab-a08fa68ae2c3\">\n",
       "    <style>\n",
       "      .colab-df-generate {\n",
       "        background-color: #E8F0FE;\n",
       "        border: none;\n",
       "        border-radius: 50%;\n",
       "        cursor: pointer;\n",
       "        display: none;\n",
       "        fill: #1967D2;\n",
       "        height: 32px;\n",
       "        padding: 0 0 0 0;\n",
       "        width: 32px;\n",
       "      }\n",
       "\n",
       "      .colab-df-generate:hover {\n",
       "        background-color: #E2EBFA;\n",
       "        box-shadow: 0px 1px 2px rgba(60, 64, 67, 0.3), 0px 1px 3px 1px rgba(60, 64, 67, 0.15);\n",
       "        fill: #174EA6;\n",
       "      }\n",
       "\n",
       "      [theme=dark] .colab-df-generate {\n",
       "        background-color: #3B4455;\n",
       "        fill: #D2E3FC;\n",
       "      }\n",
       "\n",
       "      [theme=dark] .colab-df-generate:hover {\n",
       "        background-color: #434B5C;\n",
       "        box-shadow: 0px 1px 3px 1px rgba(0, 0, 0, 0.15);\n",
       "        filter: drop-shadow(0px 1px 2px rgba(0, 0, 0, 0.3));\n",
       "        fill: #FFFFFF;\n",
       "      }\n",
       "    </style>\n",
       "    <button class=\"colab-df-generate\" onclick=\"generateWithVariable('X_test')\"\n",
       "            title=\"Generate code using this dataframe.\"\n",
       "            style=\"display:none;\">\n",
       "\n",
       "  <svg xmlns=\"http://www.w3.org/2000/svg\" height=\"24px\"viewBox=\"0 0 24 24\"\n",
       "       width=\"24px\">\n",
       "    <path d=\"M7,19H8.4L18.45,9,17,7.55,7,17.6ZM5,21V16.75L18.45,3.32a2,2,0,0,1,2.83,0l1.4,1.43a1.91,1.91,0,0,1,.58,1.4,1.91,1.91,0,0,1-.58,1.4L9.25,21ZM18.45,9,17,7.55Zm-12,3A5.31,5.31,0,0,0,4.9,8.1,5.31,5.31,0,0,0,1,6.5,5.31,5.31,0,0,0,4.9,4.9,5.31,5.31,0,0,0,6.5,1,5.31,5.31,0,0,0,8.1,4.9,5.31,5.31,0,0,0,12,6.5,5.46,5.46,0,0,0,6.5,12Z\"/>\n",
       "  </svg>\n",
       "    </button>\n",
       "    <script>\n",
       "      (() => {\n",
       "      const buttonEl =\n",
       "        document.querySelector('#id_ea9eaf72-ed8b-4821-a2ab-a08fa68ae2c3 button.colab-df-generate');\n",
       "      buttonEl.style.display =\n",
       "        google.colab.kernel.accessAllowed ? 'block' : 'none';\n",
       "\n",
       "      buttonEl.onclick = () => {\n",
       "        google.colab.notebook.generateWithVariable('X_test');\n",
       "      }\n",
       "      })();\n",
       "    </script>\n",
       "  </div>\n",
       "\n",
       "    </div>\n",
       "  </div>\n"
      ],
      "text/plain": [
       "                         open      high       low      volume  \\\n",
       "timestamp                                                       \n",
       "2023-06-02 14:00:00  26908.85  26986.08  26890.00  1685.83953   \n",
       "2023-06-02 15:00:00  26964.75  27107.34  26962.99  1248.06997   \n",
       "2023-06-02 16:00:00  27095.93  27120.02  27032.93  1402.81796   \n",
       "2023-06-02 17:00:00  27056.06  27093.82  27023.58   952.23822   \n",
       "2023-06-02 18:00:00  27057.57  27193.62  27006.22  1502.23473   \n",
       "...                       ...       ...       ...         ...   \n",
       "2023-08-01 08:00:00  28937.31  28994.91  28907.04  1025.98215   \n",
       "2023-08-01 09:00:00  28994.91  28995.59  28926.82   701.68997   \n",
       "2023-08-01 10:00:00  28928.36  28946.00  28900.00  1026.03779   \n",
       "2023-08-01 11:00:00  28928.02  28930.57  28862.18   891.02253   \n",
       "2023-08-01 12:00:00  28862.19  28927.50  28753.74  1913.25397   \n",
       "\n",
       "                     quote_asset_volume  number_of_trades  \\\n",
       "timestamp                                                   \n",
       "2023-06-02 14:00:00        4.541820e+07             39244   \n",
       "2023-06-02 15:00:00        3.372657e+07             32129   \n",
       "2023-06-02 16:00:00        3.797328e+07             32265   \n",
       "2023-06-02 17:00:00        2.577074e+07             24896   \n",
       "2023-06-02 18:00:00        4.070083e+07             39661   \n",
       "...                                 ...               ...   \n",
       "2023-08-01 08:00:00        2.969904e+07             21442   \n",
       "2023-08-01 09:00:00        2.031670e+07             18388   \n",
       "2023-08-01 10:00:00        2.967131e+07             20151   \n",
       "2023-08-01 11:00:00        2.574221e+07             22005   \n",
       "2023-08-01 12:00:00        5.523307e+07             41270   \n",
       "\n",
       "                     taker_buy_base_asset_volume  \\\n",
       "timestamp                                          \n",
       "2023-06-02 14:00:00                    905.23901   \n",
       "2023-06-02 15:00:00                    664.48891   \n",
       "2023-06-02 16:00:00                    691.10548   \n",
       "2023-06-02 17:00:00                    406.38239   \n",
       "2023-06-02 18:00:00                    822.15579   \n",
       "...                                          ...   \n",
       "2023-08-01 08:00:00                    535.91879   \n",
       "2023-08-01 09:00:00                    272.62159   \n",
       "2023-08-01 10:00:00                    319.02408   \n",
       "2023-08-01 11:00:00                    354.41154   \n",
       "2023-08-01 12:00:00                    981.18141   \n",
       "\n",
       "                     taker_buy_quote_asset_volume  hour  \n",
       "timestamp                                                \n",
       "2023-06-02 14:00:00                  2.438875e+07    14  \n",
       "2023-06-02 15:00:00                  1.795662e+07    15  \n",
       "2023-06-02 16:00:00                  1.870719e+07    16  \n",
       "2023-06-02 17:00:00                  1.099782e+07    17  \n",
       "2023-06-02 18:00:00                  2.227701e+07    18  \n",
       "...                                           ...   ...  \n",
       "2023-08-01 08:00:00                  1.551395e+07     8  \n",
       "2023-08-01 09:00:00                  7.893029e+06     9  \n",
       "2023-08-01 10:00:00                  9.226202e+06    10  \n",
       "2023-08-01 11:00:00                  1.023926e+07    11  \n",
       "2023-08-01 12:00:00                  2.833167e+07    12  \n",
       "\n",
       "[1439 rows x 9 columns]"
      ]
     },
     "execution_count": 89,
     "metadata": {},
     "output_type": "execute_result"
    }
   ],
   "source": [
    "X_test"
   ]
  },
  {
   "cell_type": "code",
   "execution_count": 73,
   "metadata": {
    "colab": {
     "base_uri": "https://localhost:8080/"
    },
    "id": "qAXOfOEdC2v9",
    "outputId": "e82fe53b-a591-4f5c-b9e1-cd15d5eea6de"
   },
   "outputs": [
    {
     "name": "stdout",
     "output_type": "stream",
     "text": [
      "Valores faltantes en X_train:\n",
      "open                            0\n",
      "high                            0\n",
      "low                             0\n",
      "volume                          0\n",
      "quote_asset_volume              0\n",
      "number_of_trades                0\n",
      "taker_buy_base_asset_volume     0\n",
      "taker_buy_quote_asset_volume    0\n",
      "hour                            0\n",
      "dtype: int64\n"
     ]
    }
   ],
   "source": [
    "print(\"Valores faltantes en X_train:\")\n",
    "print(X_train.isnull().sum())"
   ]
  },
  {
   "cell_type": "code",
   "execution_count": 74,
   "metadata": {
    "colab": {
     "base_uri": "https://localhost:8080/"
    },
    "id": "P6xAJe_fJwUz",
    "outputId": "0f3254ca-f327-4e96-cf59-8b6d3771864f"
   },
   "outputs": [
    {
     "name": "stdout",
     "output_type": "stream",
     "text": [
      "Valores faltantes en y_train: 0\n"
     ]
    }
   ],
   "source": [
    "print(\"Valores faltantes en y_train:\", y_train.isnull().sum())"
   ]
  },
  {
   "cell_type": "code",
   "execution_count": 75,
   "metadata": {
    "colab": {
     "base_uri": "https://localhost:8080/"
    },
    "id": "qywoy5RQpfSB",
    "outputId": "9ab4d337-c85b-437c-cd03-339aafa5c004"
   },
   "outputs": [
    {
     "name": "stdout",
     "output_type": "stream",
     "text": [
      "Valores faltantes en y_test: 0\n"
     ]
    }
   ],
   "source": [
    "print(\"Valores faltantes en y_test:\", y_test.isnull().sum())"
   ]
  },
  {
   "cell_type": "code",
   "execution_count": 76,
   "metadata": {
    "colab": {
     "base_uri": "https://localhost:8080/"
    },
    "id": "RIA_yvYYJfef",
    "outputId": "f1bd884d-934a-46fb-ba75-d2386ce11833"
   },
   "outputs": [
    {
     "data": {
      "text/plain": [
       "((50641, 9), (50641,), (1439, 9), (1439,))"
      ]
     },
     "execution_count": 76,
     "metadata": {},
     "output_type": "execute_result"
    }
   ],
   "source": [
    "X_train.shape, y_train.shape, X_test.shape, y_test.shape"
   ]
  },
  {
   "cell_type": "code",
   "execution_count": 77,
   "metadata": {
    "id": "0EhUEQj9C2r6"
   },
   "outputs": [],
   "source": [
    "scaler = StandardScaler()\n",
    "X_train_scaled = scaler.fit_transform(X_train)\n",
    "X_test_scaled = scaler.transform(X_test)"
   ]
  },
  {
   "cell_type": "code",
   "execution_count": 78,
   "metadata": {
    "colab": {
     "base_uri": "https://localhost:8080/"
    },
    "id": "qyDG2hSbQQLV",
    "outputId": "2751afaf-ab47-43f9-ef89-4c13154674b8"
   },
   "outputs": [
    {
     "data": {
      "text/plain": [
       "((50641, 9), (1439, 9))"
      ]
     },
     "execution_count": 78,
     "metadata": {},
     "output_type": "execute_result"
    }
   ],
   "source": [
    "X_train_scaled.shape, X_test_scaled.shape"
   ]
  },
  {
   "cell_type": "code",
   "execution_count": 79,
   "metadata": {
    "colab": {
     "base_uri": "https://localhost:8080/"
    },
    "id": "RaK3Q8fYQ3Ks",
    "outputId": "ec13d87f-d900-485d-a198-c40585a237f5"
   },
   "outputs": [
    {
     "name": "stdout",
     "output_type": "stream",
     "text": [
      "Forma de X_train_seq: (50621, 20, 9)\n",
      "Forma de X_test_seq: (1419, 20, 9)\n",
      "Forma de y_train_seq: (50621,)\n",
      "Forma de y_test_seq: (1419,)\n"
     ]
    }
   ],
   "source": [
    "# Definir el número de timesteps (ventana de tiempo)\n",
    "timesteps = 20\n",
    "\n",
    "# Crear secuencias para X_train y X_test\n",
    "def create_sequences(X, y, timesteps):\n",
    "    Xs, ys = [], []\n",
    "    for i in range(len(X) - timesteps):\n",
    "        Xs.append(X[i:i + timesteps])  # Extrae una ventana de tiempo de tamaño \"timesteps\"\n",
    "        ys.append(y.iloc[i + timesteps])  # Valor a predecir después de la ventana de tiempo\n",
    "    return np.array(Xs), np.array(ys)\n",
    "\n",
    "X_train_seq, y_train_seq = create_sequences(X_train_scaled, y_train, timesteps)\n",
    "X_test_seq, y_test_seq = create_sequences(X_test_scaled, y_test, timesteps)\n",
    "\n",
    "# Comprobación de las nuevas formas\n",
    "print(\"Forma de X_train_seq:\", X_train_seq.shape)\n",
    "print(\"Forma de X_test_seq:\", X_test_seq.shape)\n",
    "print(\"Forma de y_train_seq:\", y_train_seq.shape)\n",
    "print(\"Forma de y_test_seq:\", y_test_seq.shape)"
   ]
  },
  {
   "cell_type": "code",
   "execution_count": 80,
   "metadata": {
    "id": "ayITnjzAiHAy"
   },
   "outputs": [],
   "source": [
    "from sklearn.preprocessing import MinMaxScaler\n",
    "\n",
    "scaler_y = MinMaxScaler()\n",
    "y_train_seq_scaled = scaler_y.fit_transform(y_train_seq.reshape(-1, 1))\n",
    "y_test_seq_scaled = scaler_y.transform(y_test_seq.reshape(-1, 1))"
   ]
  },
  {
   "cell_type": "code",
   "execution_count": 81,
   "metadata": {
    "colab": {
     "base_uri": "https://localhost:8080/"
    },
    "collapsed": true,
    "id": "agQDsSbsKE4X",
    "outputId": "668af075-16c7-4e66-c516-d30d40f877b4"
   },
   "outputs": [
    {
     "name": "stderr",
     "output_type": "stream",
     "text": [
      "/usr/local/lib/python3.10/dist-packages/keras/src/layers/rnn/rnn.py:204: UserWarning: Do not pass an `input_shape`/`input_dim` argument to a layer. When using Sequential models, prefer using an `Input(shape)` object as the first layer in the model instead.\n",
      "  super().__init__(**kwargs)\n"
     ]
    },
    {
     "name": "stdout",
     "output_type": "stream",
     "text": [
      "Epoch 1/100\n",
      "\u001b[1m1424/1424\u001b[0m \u001b[32m━━━━━━━━━━━━━━━━━━━━\u001b[0m\u001b[37m\u001b[0m \u001b[1m13s\u001b[0m 8ms/step - loss: 0.0423 - val_loss: 9.8871e-04\n",
      "Epoch 2/100\n",
      "\u001b[1m1424/1424\u001b[0m \u001b[32m━━━━━━━━━━━━━━━━━━━━\u001b[0m\u001b[37m\u001b[0m \u001b[1m18s\u001b[0m 7ms/step - loss: 0.0060 - val_loss: 1.5954e-04\n",
      "Epoch 3/100\n",
      "\u001b[1m1424/1424\u001b[0m \u001b[32m━━━━━━━━━━━━━━━━━━━━\u001b[0m\u001b[37m\u001b[0m \u001b[1m11s\u001b[0m 8ms/step - loss: 0.0034 - val_loss: 3.0463e-04\n",
      "Epoch 4/100\n",
      "\u001b[1m1424/1424\u001b[0m \u001b[32m━━━━━━━━━━━━━━━━━━━━\u001b[0m\u001b[37m\u001b[0m \u001b[1m21s\u001b[0m 8ms/step - loss: 0.0024 - val_loss: 1.2116e-04\n",
      "Epoch 5/100\n",
      "\u001b[1m1424/1424\u001b[0m \u001b[32m━━━━━━━━━━━━━━━━━━━━\u001b[0m\u001b[37m\u001b[0m \u001b[1m20s\u001b[0m 8ms/step - loss: 0.0018 - val_loss: 5.1739e-05\n",
      "Epoch 6/100\n",
      "\u001b[1m1424/1424\u001b[0m \u001b[32m━━━━━━━━━━━━━━━━━━━━\u001b[0m\u001b[37m\u001b[0m \u001b[1m22s\u001b[0m 8ms/step - loss: 0.0015 - val_loss: 2.0979e-05\n",
      "Epoch 7/100\n",
      "\u001b[1m1424/1424\u001b[0m \u001b[32m━━━━━━━━━━━━━━━━━━━━\u001b[0m\u001b[37m\u001b[0m \u001b[1m10s\u001b[0m 7ms/step - loss: 0.0013 - val_loss: 2.3629e-05\n",
      "Epoch 8/100\n",
      "\u001b[1m1424/1424\u001b[0m \u001b[32m━━━━━━━━━━━━━━━━━━━━\u001b[0m\u001b[37m\u001b[0m \u001b[1m11s\u001b[0m 7ms/step - loss: 0.0011 - val_loss: 3.1847e-05\n",
      "Epoch 9/100\n",
      "\u001b[1m1424/1424\u001b[0m \u001b[32m━━━━━━━━━━━━━━━━━━━━\u001b[0m\u001b[37m\u001b[0m \u001b[1m11s\u001b[0m 8ms/step - loss: 0.0011 - val_loss: 6.8266e-05\n",
      "Epoch 10/100\n",
      "\u001b[1m1424/1424\u001b[0m \u001b[32m━━━━━━━━━━━━━━━━━━━━\u001b[0m\u001b[37m\u001b[0m \u001b[1m11s\u001b[0m 8ms/step - loss: 9.8381e-04 - val_loss: 2.7536e-05\n",
      "Epoch 11/100\n",
      "\u001b[1m1424/1424\u001b[0m \u001b[32m━━━━━━━━━━━━━━━━━━━━\u001b[0m\u001b[37m\u001b[0m \u001b[1m20s\u001b[0m 8ms/step - loss: 9.6610e-04 - val_loss: 2.4943e-05\n",
      "Epoch 12/100\n",
      "\u001b[1m1424/1424\u001b[0m \u001b[32m━━━━━━━━━━━━━━━━━━━━\u001b[0m\u001b[37m\u001b[0m \u001b[1m21s\u001b[0m 8ms/step - loss: 9.3340e-04 - val_loss: 2.4262e-05\n",
      "Epoch 13/100\n",
      "\u001b[1m1424/1424\u001b[0m \u001b[32m━━━━━━━━━━━━━━━━━━━━\u001b[0m\u001b[37m\u001b[0m \u001b[1m10s\u001b[0m 7ms/step - loss: 8.7988e-04 - val_loss: 2.0804e-05\n",
      "Epoch 14/100\n",
      "\u001b[1m1424/1424\u001b[0m \u001b[32m━━━━━━━━━━━━━━━━━━━━\u001b[0m\u001b[37m\u001b[0m \u001b[1m11s\u001b[0m 7ms/step - loss: 8.6317e-04 - val_loss: 2.3552e-05\n",
      "Epoch 15/100\n",
      "\u001b[1m1424/1424\u001b[0m \u001b[32m━━━━━━━━━━━━━━━━━━━━\u001b[0m\u001b[37m\u001b[0m \u001b[1m11s\u001b[0m 8ms/step - loss: 8.5724e-04 - val_loss: 5.9010e-05\n",
      "Epoch 16/100\n",
      "\u001b[1m1424/1424\u001b[0m \u001b[32m━━━━━━━━━━━━━━━━━━━━\u001b[0m\u001b[37m\u001b[0m \u001b[1m19s\u001b[0m 7ms/step - loss: 8.3976e-04 - val_loss: 6.6408e-05\n",
      "Epoch 17/100\n",
      "\u001b[1m1424/1424\u001b[0m \u001b[32m━━━━━━━━━━━━━━━━━━━━\u001b[0m\u001b[37m\u001b[0m \u001b[1m11s\u001b[0m 7ms/step - loss: 8.3359e-04 - val_loss: 2.1802e-05\n",
      "Epoch 18/100\n",
      "\u001b[1m1424/1424\u001b[0m \u001b[32m━━━━━━━━━━━━━━━━━━━━\u001b[0m\u001b[37m\u001b[0m \u001b[1m21s\u001b[0m 8ms/step - loss: 8.4660e-04 - val_loss: 2.9123e-05\n",
      "Epoch 19/100\n",
      "\u001b[1m1424/1424\u001b[0m \u001b[32m━━━━━━━━━━━━━━━━━━━━\u001b[0m\u001b[37m\u001b[0m \u001b[1m20s\u001b[0m 8ms/step - loss: 8.1412e-04 - val_loss: 6.4174e-05\n",
      "Epoch 20/100\n",
      "\u001b[1m1424/1424\u001b[0m \u001b[32m━━━━━━━━━━━━━━━━━━━━\u001b[0m\u001b[37m\u001b[0m \u001b[1m22s\u001b[0m 9ms/step - loss: 8.2231e-04 - val_loss: 3.7353e-05\n",
      "Epoch 21/100\n",
      "\u001b[1m1424/1424\u001b[0m \u001b[32m━━━━━━━━━━━━━━━━━━━━\u001b[0m\u001b[37m\u001b[0m \u001b[1m20s\u001b[0m 8ms/step - loss: 8.0689e-04 - val_loss: 6.3524e-05\n",
      "Epoch 22/100\n",
      "\u001b[1m1424/1424\u001b[0m \u001b[32m━━━━━━━━━━━━━━━━━━━━\u001b[0m\u001b[37m\u001b[0m \u001b[1m12s\u001b[0m 9ms/step - loss: 8.1891e-04 - val_loss: 2.6349e-05\n",
      "Epoch 23/100\n",
      "\u001b[1m1424/1424\u001b[0m \u001b[32m━━━━━━━━━━━━━━━━━━━━\u001b[0m\u001b[37m\u001b[0m \u001b[1m11s\u001b[0m 8ms/step - loss: 8.1185e-04 - val_loss: 1.5235e-05\n",
      "Epoch 24/100\n",
      "\u001b[1m1424/1424\u001b[0m \u001b[32m━━━━━━━━━━━━━━━━━━━━\u001b[0m\u001b[37m\u001b[0m \u001b[1m9s\u001b[0m 7ms/step - loss: 8.2172e-04 - val_loss: 1.7754e-05\n",
      "Epoch 25/100\n",
      "\u001b[1m1424/1424\u001b[0m \u001b[32m━━━━━━━━━━━━━━━━━━━━\u001b[0m\u001b[37m\u001b[0m \u001b[1m12s\u001b[0m 8ms/step - loss: 8.0567e-04 - val_loss: 1.6455e-05\n",
      "Epoch 26/100\n",
      "\u001b[1m1424/1424\u001b[0m \u001b[32m━━━━━━━━━━━━━━━━━━━━\u001b[0m\u001b[37m\u001b[0m \u001b[1m11s\u001b[0m 8ms/step - loss: 8.2631e-04 - val_loss: 2.3149e-05\n",
      "Epoch 27/100\n",
      "\u001b[1m1424/1424\u001b[0m \u001b[32m━━━━━━━━━━━━━━━━━━━━\u001b[0m\u001b[37m\u001b[0m \u001b[1m19s\u001b[0m 7ms/step - loss: 7.8753e-04 - val_loss: 2.8021e-05\n",
      "Epoch 28/100\n",
      "\u001b[1m1424/1424\u001b[0m \u001b[32m━━━━━━━━━━━━━━━━━━━━\u001b[0m\u001b[37m\u001b[0m \u001b[1m12s\u001b[0m 8ms/step - loss: 8.0426e-04 - val_loss: 2.7835e-05\n",
      "Epoch 29/100\n",
      "\u001b[1m1424/1424\u001b[0m \u001b[32m━━━━━━━━━━━━━━━━━━━━\u001b[0m\u001b[37m\u001b[0m \u001b[1m11s\u001b[0m 8ms/step - loss: 7.8135e-04 - val_loss: 3.5631e-05\n",
      "Epoch 30/100\n",
      "\u001b[1m1424/1424\u001b[0m \u001b[32m━━━━━━━━━━━━━━━━━━━━\u001b[0m\u001b[37m\u001b[0m \u001b[1m12s\u001b[0m 8ms/step - loss: 7.9999e-04 - val_loss: 3.3942e-05\n",
      "Epoch 31/100\n",
      "\u001b[1m1424/1424\u001b[0m \u001b[32m━━━━━━━━━━━━━━━━━━━━\u001b[0m\u001b[37m\u001b[0m \u001b[1m10s\u001b[0m 7ms/step - loss: 8.0409e-04 - val_loss: 1.0280e-04\n",
      "Epoch 32/100\n",
      "\u001b[1m1424/1424\u001b[0m \u001b[32m━━━━━━━━━━━━━━━━━━━━\u001b[0m\u001b[37m\u001b[0m \u001b[1m11s\u001b[0m 8ms/step - loss: 8.0886e-04 - val_loss: 4.4989e-05\n",
      "Epoch 33/100\n",
      "\u001b[1m1424/1424\u001b[0m \u001b[32m━━━━━━━━━━━━━━━━━━━━\u001b[0m\u001b[37m\u001b[0m \u001b[1m11s\u001b[0m 8ms/step - loss: 7.6619e-04 - val_loss: 1.6731e-05\n",
      "Epoch 34/100\n",
      "\u001b[1m1424/1424\u001b[0m \u001b[32m━━━━━━━━━━━━━━━━━━━━\u001b[0m\u001b[37m\u001b[0m \u001b[1m19s\u001b[0m 7ms/step - loss: 7.8851e-04 - val_loss: 2.3987e-05\n",
      "Epoch 35/100\n",
      "\u001b[1m1424/1424\u001b[0m \u001b[32m━━━━━━━━━━━━━━━━━━━━\u001b[0m\u001b[37m\u001b[0m \u001b[1m11s\u001b[0m 8ms/step - loss: 7.6586e-04 - val_loss: 5.7323e-05\n",
      "Epoch 36/100\n",
      "\u001b[1m1424/1424\u001b[0m \u001b[32m━━━━━━━━━━━━━━━━━━━━\u001b[0m\u001b[37m\u001b[0m \u001b[1m12s\u001b[0m 8ms/step - loss: 7.8152e-04 - val_loss: 2.9804e-05\n",
      "Epoch 37/100\n",
      "\u001b[1m1424/1424\u001b[0m \u001b[32m━━━━━━━━━━━━━━━━━━━━\u001b[0m\u001b[37m\u001b[0m \u001b[1m11s\u001b[0m 8ms/step - loss: 7.7562e-04 - val_loss: 6.4385e-05\n",
      "Epoch 38/100\n",
      "\u001b[1m1424/1424\u001b[0m \u001b[32m━━━━━━━━━━━━━━━━━━━━\u001b[0m\u001b[37m\u001b[0m \u001b[1m10s\u001b[0m 7ms/step - loss: 8.0870e-04 - val_loss: 2.7996e-05\n",
      "Epoch 39/100\n",
      "\u001b[1m1424/1424\u001b[0m \u001b[32m━━━━━━━━━━━━━━━━━━━━\u001b[0m\u001b[37m\u001b[0m \u001b[1m11s\u001b[0m 8ms/step - loss: 7.9218e-04 - val_loss: 1.3003e-05\n",
      "Epoch 40/100\n",
      "\u001b[1m1424/1424\u001b[0m \u001b[32m━━━━━━━━━━━━━━━━━━━━\u001b[0m\u001b[37m\u001b[0m \u001b[1m11s\u001b[0m 8ms/step - loss: 7.6129e-04 - val_loss: 1.9365e-05\n",
      "Epoch 41/100\n",
      "\u001b[1m1424/1424\u001b[0m \u001b[32m━━━━━━━━━━━━━━━━━━━━\u001b[0m\u001b[37m\u001b[0m \u001b[1m11s\u001b[0m 8ms/step - loss: 7.9063e-04 - val_loss: 1.9744e-05\n",
      "Epoch 42/100\n",
      "\u001b[1m1424/1424\u001b[0m \u001b[32m━━━━━━━━━━━━━━━━━━━━\u001b[0m\u001b[37m\u001b[0m \u001b[1m10s\u001b[0m 7ms/step - loss: 8.1405e-04 - val_loss: 3.4522e-05\n",
      "Epoch 43/100\n",
      "\u001b[1m1424/1424\u001b[0m \u001b[32m━━━━━━━━━━━━━━━━━━━━\u001b[0m\u001b[37m\u001b[0m \u001b[1m11s\u001b[0m 8ms/step - loss: 7.8974e-04 - val_loss: 1.4712e-05\n",
      "Epoch 44/100\n",
      "\u001b[1m1424/1424\u001b[0m \u001b[32m━━━━━━━━━━━━━━━━━━━━\u001b[0m\u001b[37m\u001b[0m \u001b[1m12s\u001b[0m 8ms/step - loss: 7.6281e-04 - val_loss: 1.6913e-05\n",
      "Epoch 45/100\n",
      "\u001b[1m1424/1424\u001b[0m \u001b[32m━━━━━━━━━━━━━━━━━━━━\u001b[0m\u001b[37m\u001b[0m \u001b[1m19s\u001b[0m 7ms/step - loss: 7.7052e-04 - val_loss: 3.9601e-05\n",
      "Epoch 46/100\n",
      "\u001b[1m1424/1424\u001b[0m \u001b[32m━━━━━━━━━━━━━━━━━━━━\u001b[0m\u001b[37m\u001b[0m \u001b[1m11s\u001b[0m 8ms/step - loss: 7.5845e-04 - val_loss: 2.3472e-05\n",
      "Epoch 47/100\n",
      "\u001b[1m1424/1424\u001b[0m \u001b[32m━━━━━━━━━━━━━━━━━━━━\u001b[0m\u001b[37m\u001b[0m \u001b[1m20s\u001b[0m 8ms/step - loss: 7.8835e-04 - val_loss: 2.2610e-05\n",
      "Epoch 48/100\n",
      "\u001b[1m1424/1424\u001b[0m \u001b[32m━━━━━━━━━━━━━━━━━━━━\u001b[0m\u001b[37m\u001b[0m \u001b[1m23s\u001b[0m 9ms/step - loss: 7.8710e-04 - val_loss: 1.3564e-05\n",
      "Epoch 49/100\n",
      "\u001b[1m1424/1424\u001b[0m \u001b[32m━━━━━━━━━━━━━━━━━━━━\u001b[0m\u001b[37m\u001b[0m \u001b[1m12s\u001b[0m 8ms/step - loss: 7.8896e-04 - val_loss: 3.1650e-05\n",
      "Epoch 50/100\n",
      "\u001b[1m1424/1424\u001b[0m \u001b[32m━━━━━━━━━━━━━━━━━━━━\u001b[0m\u001b[37m\u001b[0m \u001b[1m12s\u001b[0m 8ms/step - loss: 8.2146e-04 - val_loss: 2.4634e-05\n",
      "Epoch 51/100\n",
      "\u001b[1m1424/1424\u001b[0m \u001b[32m━━━━━━━━━━━━━━━━━━━━\u001b[0m\u001b[37m\u001b[0m \u001b[1m20s\u001b[0m 8ms/step - loss: 7.7613e-04 - val_loss: 3.5356e-05\n",
      "Epoch 52/100\n",
      "\u001b[1m1424/1424\u001b[0m \u001b[32m━━━━━━━━━━━━━━━━━━━━\u001b[0m\u001b[37m\u001b[0m \u001b[1m12s\u001b[0m 8ms/step - loss: 7.9291e-04 - val_loss: 2.7374e-05\n",
      "Epoch 53/100\n",
      "\u001b[1m1424/1424\u001b[0m \u001b[32m━━━━━━━━━━━━━━━━━━━━\u001b[0m\u001b[37m\u001b[0m \u001b[1m11s\u001b[0m 8ms/step - loss: 8.0138e-04 - val_loss: 1.7540e-05\n",
      "Epoch 54/100\n",
      "\u001b[1m1424/1424\u001b[0m \u001b[32m━━━━━━━━━━━━━━━━━━━━\u001b[0m\u001b[37m\u001b[0m \u001b[1m10s\u001b[0m 7ms/step - loss: 7.7743e-04 - val_loss: 3.2647e-05\n",
      "Epoch 55/100\n",
      "\u001b[1m1424/1424\u001b[0m \u001b[32m━━━━━━━━━━━━━━━━━━━━\u001b[0m\u001b[37m\u001b[0m \u001b[1m11s\u001b[0m 8ms/step - loss: 7.8699e-04 - val_loss: 1.2650e-05\n",
      "Epoch 56/100\n",
      "\u001b[1m1424/1424\u001b[0m \u001b[32m━━━━━━━━━━━━━━━━━━━━\u001b[0m\u001b[37m\u001b[0m \u001b[1m21s\u001b[0m 8ms/step - loss: 7.7595e-04 - val_loss: 2.4120e-05\n",
      "Epoch 57/100\n",
      "\u001b[1m1424/1424\u001b[0m \u001b[32m━━━━━━━━━━━━━━━━━━━━\u001b[0m\u001b[37m\u001b[0m \u001b[1m11s\u001b[0m 7ms/step - loss: 7.6221e-04 - val_loss: 1.6564e-05\n",
      "Epoch 58/100\n",
      "\u001b[1m1424/1424\u001b[0m \u001b[32m━━━━━━━━━━━━━━━━━━━━\u001b[0m\u001b[37m\u001b[0m \u001b[1m21s\u001b[0m 8ms/step - loss: 7.8006e-04 - val_loss: 2.6286e-05\n",
      "Epoch 59/100\n",
      "\u001b[1m1424/1424\u001b[0m \u001b[32m━━━━━━━━━━━━━━━━━━━━\u001b[0m\u001b[37m\u001b[0m \u001b[1m11s\u001b[0m 8ms/step - loss: 7.6827e-04 - val_loss: 2.3672e-05\n",
      "Epoch 60/100\n",
      "\u001b[1m1424/1424\u001b[0m \u001b[32m━━━━━━━━━━━━━━━━━━━━\u001b[0m\u001b[37m\u001b[0m \u001b[1m11s\u001b[0m 8ms/step - loss: 7.9520e-04 - val_loss: 2.2801e-05\n",
      "Epoch 61/100\n",
      "\u001b[1m1424/1424\u001b[0m \u001b[32m━━━━━━━━━━━━━━━━━━━━\u001b[0m\u001b[37m\u001b[0m \u001b[1m21s\u001b[0m 8ms/step - loss: 7.6632e-04 - val_loss: 1.7211e-05\n",
      "Epoch 62/100\n",
      "\u001b[1m1424/1424\u001b[0m \u001b[32m━━━━━━━━━━━━━━━━━━━━\u001b[0m\u001b[37m\u001b[0m \u001b[1m19s\u001b[0m 7ms/step - loss: 7.5061e-04 - val_loss: 3.3482e-05\n",
      "Epoch 63/100\n",
      "\u001b[1m1424/1424\u001b[0m \u001b[32m━━━━━━━━━━━━━━━━━━━━\u001b[0m\u001b[37m\u001b[0m \u001b[1m11s\u001b[0m 7ms/step - loss: 7.9659e-04 - val_loss: 1.9357e-05\n",
      "Epoch 64/100\n",
      "\u001b[1m1424/1424\u001b[0m \u001b[32m━━━━━━━━━━━━━━━━━━━━\u001b[0m\u001b[37m\u001b[0m \u001b[1m21s\u001b[0m 8ms/step - loss: 7.6607e-04 - val_loss: 1.5799e-05\n",
      "Epoch 65/100\n",
      "\u001b[1m1424/1424\u001b[0m \u001b[32m━━━━━━━━━━━━━━━━━━━━\u001b[0m\u001b[37m\u001b[0m \u001b[1m10s\u001b[0m 7ms/step - loss: 7.9069e-04 - val_loss: 1.4858e-05\n",
      "Epoch 66/100\n",
      "\u001b[1m1424/1424\u001b[0m \u001b[32m━━━━━━━━━━━━━━━━━━━━\u001b[0m\u001b[37m\u001b[0m \u001b[1m21s\u001b[0m 8ms/step - loss: 7.7595e-04 - val_loss: 2.1593e-05\n",
      "Epoch 67/100\n",
      "\u001b[1m1424/1424\u001b[0m \u001b[32m━━━━━━━━━━━━━━━━━━━━\u001b[0m\u001b[37m\u001b[0m \u001b[1m20s\u001b[0m 7ms/step - loss: 7.8224e-04 - val_loss: 3.3740e-05\n",
      "Epoch 68/100\n",
      "\u001b[1m1424/1424\u001b[0m \u001b[32m━━━━━━━━━━━━━━━━━━━━\u001b[0m\u001b[37m\u001b[0m \u001b[1m10s\u001b[0m 7ms/step - loss: 7.8679e-04 - val_loss: 2.6730e-05\n",
      "Epoch 69/100\n",
      "\u001b[1m1424/1424\u001b[0m \u001b[32m━━━━━━━━━━━━━━━━━━━━\u001b[0m\u001b[37m\u001b[0m \u001b[1m11s\u001b[0m 8ms/step - loss: 7.8343e-04 - val_loss: 1.2263e-05\n",
      "Epoch 70/100\n",
      "\u001b[1m1424/1424\u001b[0m \u001b[32m━━━━━━━━━━━━━━━━━━━━\u001b[0m\u001b[37m\u001b[0m \u001b[1m19s\u001b[0m 7ms/step - loss: 7.6144e-04 - val_loss: 1.7560e-05\n",
      "Epoch 71/100\n",
      "\u001b[1m1424/1424\u001b[0m \u001b[32m━━━━━━━━━━━━━━━━━━━━\u001b[0m\u001b[37m\u001b[0m \u001b[1m22s\u001b[0m 8ms/step - loss: 7.6864e-04 - val_loss: 4.2355e-05\n",
      "Epoch 72/100\n",
      "\u001b[1m1424/1424\u001b[0m \u001b[32m━━━━━━━━━━━━━━━━━━━━\u001b[0m\u001b[37m\u001b[0m \u001b[1m19s\u001b[0m 7ms/step - loss: 7.6516e-04 - val_loss: 1.4418e-05\n",
      "Epoch 73/100\n",
      "\u001b[1m1424/1424\u001b[0m \u001b[32m━━━━━━━━━━━━━━━━━━━━\u001b[0m\u001b[37m\u001b[0m \u001b[1m22s\u001b[0m 8ms/step - loss: 7.8022e-04 - val_loss: 1.8929e-05\n",
      "Epoch 74/100\n",
      "\u001b[1m1424/1424\u001b[0m \u001b[32m━━━━━━━━━━━━━━━━━━━━\u001b[0m\u001b[37m\u001b[0m \u001b[1m12s\u001b[0m 8ms/step - loss: 7.6070e-04 - val_loss: 5.0622e-05\n",
      "Epoch 75/100\n",
      "\u001b[1m1424/1424\u001b[0m \u001b[32m━━━━━━━━━━━━━━━━━━━━\u001b[0m\u001b[37m\u001b[0m \u001b[1m20s\u001b[0m 8ms/step - loss: 7.7904e-04 - val_loss: 2.6460e-05\n",
      "Epoch 76/100\n",
      "\u001b[1m1424/1424\u001b[0m \u001b[32m━━━━━━━━━━━━━━━━━━━━\u001b[0m\u001b[37m\u001b[0m \u001b[1m11s\u001b[0m 8ms/step - loss: 7.5960e-04 - val_loss: 3.3776e-05\n",
      "Epoch 77/100\n",
      "\u001b[1m1424/1424\u001b[0m \u001b[32m━━━━━━━━━━━━━━━━━━━━\u001b[0m\u001b[37m\u001b[0m \u001b[1m20s\u001b[0m 7ms/step - loss: 7.3478e-04 - val_loss: 2.3652e-05\n",
      "Epoch 78/100\n",
      "\u001b[1m1424/1424\u001b[0m \u001b[32m━━━━━━━━━━━━━━━━━━━━\u001b[0m\u001b[37m\u001b[0m \u001b[1m22s\u001b[0m 8ms/step - loss: 7.8395e-04 - val_loss: 1.8724e-05\n",
      "Epoch 79/100\n",
      "\u001b[1m1424/1424\u001b[0m \u001b[32m━━━━━━━━━━━━━━━━━━━━\u001b[0m\u001b[37m\u001b[0m \u001b[1m11s\u001b[0m 8ms/step - loss: 7.4691e-04 - val_loss: 1.7320e-05\n",
      "Epoch 80/100\n",
      "\u001b[1m1424/1424\u001b[0m \u001b[32m━━━━━━━━━━━━━━━━━━━━\u001b[0m\u001b[37m\u001b[0m \u001b[1m10s\u001b[0m 7ms/step - loss: 7.5750e-04 - val_loss: 1.2935e-05\n",
      "Epoch 81/100\n",
      "\u001b[1m1424/1424\u001b[0m \u001b[32m━━━━━━━━━━━━━━━━━━━━\u001b[0m\u001b[37m\u001b[0m \u001b[1m21s\u001b[0m 8ms/step - loss: 7.6700e-04 - val_loss: 1.2761e-05\n",
      "Epoch 82/100\n",
      "\u001b[1m1424/1424\u001b[0m \u001b[32m━━━━━━━━━━━━━━━━━━━━\u001b[0m\u001b[37m\u001b[0m \u001b[1m11s\u001b[0m 8ms/step - loss: 7.6341e-04 - val_loss: 1.6496e-05\n",
      "Epoch 83/100\n",
      "\u001b[1m1424/1424\u001b[0m \u001b[32m━━━━━━━━━━━━━━━━━━━━\u001b[0m\u001b[37m\u001b[0m \u001b[1m20s\u001b[0m 7ms/step - loss: 7.5713e-04 - val_loss: 1.4112e-05\n",
      "Epoch 84/100\n",
      "\u001b[1m1424/1424\u001b[0m \u001b[32m━━━━━━━━━━━━━━━━━━━━\u001b[0m\u001b[37m\u001b[0m \u001b[1m11s\u001b[0m 8ms/step - loss: 7.7656e-04 - val_loss: 2.0651e-05\n",
      "Epoch 85/100\n",
      "\u001b[1m1424/1424\u001b[0m \u001b[32m━━━━━━━━━━━━━━━━━━━━\u001b[0m\u001b[37m\u001b[0m \u001b[1m11s\u001b[0m 8ms/step - loss: 7.4123e-04 - val_loss: 1.6259e-05\n",
      "Epoch 86/100\n",
      "\u001b[1m1424/1424\u001b[0m \u001b[32m━━━━━━━━━━━━━━━━━━━━\u001b[0m\u001b[37m\u001b[0m \u001b[1m11s\u001b[0m 7ms/step - loss: 7.8968e-04 - val_loss: 1.4513e-05\n",
      "Epoch 87/100\n",
      "\u001b[1m1424/1424\u001b[0m \u001b[32m━━━━━━━━━━━━━━━━━━━━\u001b[0m\u001b[37m\u001b[0m \u001b[1m21s\u001b[0m 8ms/step - loss: 7.6879e-04 - val_loss: 3.1183e-05\n",
      "Epoch 88/100\n",
      "\u001b[1m1424/1424\u001b[0m \u001b[32m━━━━━━━━━━━━━━━━━━━━\u001b[0m\u001b[37m\u001b[0m \u001b[1m20s\u001b[0m 7ms/step - loss: 7.6527e-04 - val_loss: 1.0985e-05\n",
      "Epoch 89/100\n",
      "\u001b[1m1424/1424\u001b[0m \u001b[32m━━━━━━━━━━━━━━━━━━━━\u001b[0m\u001b[37m\u001b[0m \u001b[1m11s\u001b[0m 8ms/step - loss: 7.8347e-04 - val_loss: 2.2840e-05\n",
      "Epoch 90/100\n",
      "\u001b[1m1424/1424\u001b[0m \u001b[32m━━━━━━━━━━━━━━━━━━━━\u001b[0m\u001b[37m\u001b[0m \u001b[1m12s\u001b[0m 8ms/step - loss: 7.5847e-04 - val_loss: 1.5508e-05\n",
      "Epoch 91/100\n",
      "\u001b[1m1424/1424\u001b[0m \u001b[32m━━━━━━━━━━━━━━━━━━━━\u001b[0m\u001b[37m\u001b[0m \u001b[1m19s\u001b[0m 7ms/step - loss: 7.5872e-04 - val_loss: 2.3677e-05\n",
      "Epoch 92/100\n",
      "\u001b[1m1424/1424\u001b[0m \u001b[32m━━━━━━━━━━━━━━━━━━━━\u001b[0m\u001b[37m\u001b[0m \u001b[1m12s\u001b[0m 8ms/step - loss: 7.8058e-04 - val_loss: 3.6033e-05\n",
      "Epoch 93/100\n",
      "\u001b[1m1424/1424\u001b[0m \u001b[32m━━━━━━━━━━━━━━━━━━━━\u001b[0m\u001b[37m\u001b[0m \u001b[1m12s\u001b[0m 9ms/step - loss: 7.5155e-04 - val_loss: 3.3423e-05\n",
      "Epoch 94/100\n",
      "\u001b[1m1424/1424\u001b[0m \u001b[32m━━━━━━━━━━━━━━━━━━━━\u001b[0m\u001b[37m\u001b[0m \u001b[1m11s\u001b[0m 8ms/step - loss: 7.6009e-04 - val_loss: 2.5887e-05\n",
      "Epoch 95/100\n",
      "\u001b[1m1424/1424\u001b[0m \u001b[32m━━━━━━━━━━━━━━━━━━━━\u001b[0m\u001b[37m\u001b[0m \u001b[1m11s\u001b[0m 7ms/step - loss: 7.6054e-04 - val_loss: 2.3597e-05\n",
      "Epoch 96/100\n",
      "\u001b[1m1424/1424\u001b[0m \u001b[32m━━━━━━━━━━━━━━━━━━━━\u001b[0m\u001b[37m\u001b[0m \u001b[1m11s\u001b[0m 8ms/step - loss: 7.8841e-04 - val_loss: 3.0174e-05\n",
      "Epoch 97/100\n",
      "\u001b[1m1424/1424\u001b[0m \u001b[32m━━━━━━━━━━━━━━━━━━━━\u001b[0m\u001b[37m\u001b[0m \u001b[1m11s\u001b[0m 8ms/step - loss: 7.8165e-04 - val_loss: 1.5247e-05\n",
      "Epoch 98/100\n",
      "\u001b[1m1424/1424\u001b[0m \u001b[32m━━━━━━━━━━━━━━━━━━━━\u001b[0m\u001b[37m\u001b[0m \u001b[1m12s\u001b[0m 8ms/step - loss: 7.4390e-04 - val_loss: 1.5337e-05\n",
      "Epoch 99/100\n",
      "\u001b[1m1424/1424\u001b[0m \u001b[32m━━━━━━━━━━━━━━━━━━━━\u001b[0m\u001b[37m\u001b[0m \u001b[1m19s\u001b[0m 8ms/step - loss: 7.7130e-04 - val_loss: 1.8583e-05\n",
      "Epoch 100/100\n",
      "\u001b[1m1424/1424\u001b[0m \u001b[32m━━━━━━━━━━━━━━━━━━━━\u001b[0m\u001b[37m\u001b[0m \u001b[1m11s\u001b[0m 8ms/step - loss: 7.4576e-04 - val_loss: 1.7770e-05\n",
      "Tiempo de ejecución del fit: 1452.55 segundos\n"
     ]
    }
   ],
   "source": [
    "from keras.models import Sequential\n",
    "from keras.layers import GRU, Dense, Dropout\n",
    "from keras.optimizers import Adam\n",
    "from keras.callbacks import EarlyStopping\n",
    "import time\n",
    "\n",
    "optimizer = Adam(learning_rate=0.0001)\n",
    "# Construir el modelo\n",
    "regressorGRU = Sequential()\n",
    "regressorGRU.add(GRU(units=128, return_sequences=True, input_shape=(timesteps, X_train_seq.shape[2]), activation = 'tanh'))\n",
    "regressorGRU.add(Dropout(0.4))  # Dropout después de la capa GRU\n",
    "regressorGRU.add(GRU(units=64, return_sequences=False, activation='tanh'))  # Segunda capa GRU\n",
    "regressorGRU.add(Dropout(0.4))\n",
    "regressorGRU.add(Dense(units=1))  # Capa de salida para predicción de un valor\n",
    "\n",
    "# Compilar el modelo\n",
    "regressorGRU.compile(optimizer=optimizer, loss='mse')\n",
    "\n",
    "early_stopping = EarlyStopping(monitor='val_loss', patience=25, restore_best_weights=False)\n",
    "# Entrenar el modelo\n",
    "\n",
    "# Iniciar el temporizador by GPT4-o\n",
    "start_time = time.time()\n",
    "history = regressorGRU.fit(X_train_seq, y_train_seq_scaled, epochs=100, batch_size=32, validation_split=0.1, verbose=1, callbacks=[early_stopping])\n",
    "\n",
    "end_time = time.time()\n",
    "# Calcular y mostrar el tiempo de ejecución\n",
    "execution_time = end_time - start_time\n",
    "print(f\"Tiempo de ejecución del fit: {execution_time:.2f} segundos\")"
   ]
  },
  {
   "cell_type": "code",
   "execution_count": 82,
   "metadata": {
    "colab": {
     "base_uri": "https://localhost:8080/",
     "height": 452
    },
    "id": "A2aboixxMR88",
    "outputId": "365d04fd-6804-4186-8957-6060108078a6"
   },
   "outputs": [
    {
     "data": {
      "image/png": "[encoded data removed]",
      "text/plain": [
       "<Figure size 640x480 with 1 Axes>"
      ]
     },
     "metadata": {},
     "output_type": "display_data"
    }
   ],
   "source": [
    "plt.plot(history.history['loss'], label='Entrenamiento')\n",
    "plt.plot(history.history['val_loss'], label='Validación')\n",
    "plt.xlabel('Épocas')\n",
    "plt.ylabel('MSE Loss')\n",
    "plt.legend()\n",
    "plt.show()"
   ]
  },
  {
   "cell_type": "code",
   "execution_count": 83,
   "metadata": {
    "colab": {
     "base_uri": "https://localhost:8080/"
    },
    "id": "b43eARmkjPoS",
    "outputId": "6ffd70f8-d5c4-4cc6-8298-a3f86f4d657e"
   },
   "outputs": [
    {
     "name": "stdout",
     "output_type": "stream",
     "text": [
      "\u001b[1m45/45\u001b[0m \u001b[32m━━━━━━━━━━━━━━━━━━━━\u001b[0m\u001b[37m\u001b[0m \u001b[1m0s\u001b[0m 6ms/step\n"
     ]
    }
   ],
   "source": [
    "y_pred_scaled = regressorGRU.predict(X_test_seq)\n",
    "y_pred = scaler_y.inverse_transform(y_pred_scaled)"
   ]
  },
  {
   "cell_type": "code",
   "execution_count": 84,
   "metadata": {
    "id": "59naULi2Oypg"
   },
   "outputs": [],
   "source": [
    "mse_gru = mean_squared_error(y_test_seq_scaled, y_pred_scaled)\n",
    "mae_gru  = mean_absolute_error(y_test_seq_scaled, y_pred_scaled)"
   ]
  },
  {
   "cell_type": "code",
   "execution_count": 85,
   "metadata": {
    "colab": {
     "base_uri": "https://localhost:8080/"
    },
    "id": "VL-OgQV2O7fZ",
    "outputId": "938e3d43-20f5-499b-9932-35ebc48cd001"
   },
   "outputs": [
    {
     "name": "stdout",
     "output_type": "stream",
     "text": [
      "Resultados de GRU:\n",
      "MSE: 0.000022\n",
      "MAE: 0.003849\n",
      "\n"
     ]
    }
   ],
   "source": [
    "print(\"Resultados de GRU:\")\n",
    "print(f\"MSE: {mse_gru:.6f}\")\n",
    "print(f\"MAE: {mae_gru:.6f}\\n\")"
   ]
  },
  {
   "cell_type": "code",
   "execution_count": 86,
   "metadata": {
    "colab": {
     "base_uri": "https://localhost:8080/",
     "height": 565
    },
    "id": "9CzUf6H_khub",
    "outputId": "40c2fe11-f423-4591-c502-095447834d35"
   },
   "outputs": [
    {
     "data": {
      "image/png": "[encoded data removed]",
      "text/plain": [
       "<Figure size 1000x600 with 1 Axes>"
      ]
     },
     "metadata": {},
     "output_type": "display_data"
    }
   ],
   "source": [
    "import matplotlib.pyplot as plt\n",
    "\n",
    "plt.figure(figsize=(10, 6))\n",
    "plt.plot(y_test_seq, label='Valor Real', color='blue')\n",
    "plt.plot(y_pred, label='Predicción', color='red', linestyle='dashed')\n",
    "plt.xlabel('Horas')\n",
    "plt.ylabel('Precio de Cierre')\n",
    "plt.title('Comparación entre Valores Reales y Predicciones')\n",
    "plt.legend()\n",
    "plt.show()\n"
   ]
  }
 ],
 "metadata": {
  "accelerator": "GPU",
  "colab": {
   "gpuType": "T4",
   "provenance": []
  },
  "kernelspec": {
   "display_name": "Python 3",
   "name": "python3"
  },
  "language_info": {
   "name": "python"
  }
 },
 "nbformat": 4,
 "nbformat_minor": 0
}
