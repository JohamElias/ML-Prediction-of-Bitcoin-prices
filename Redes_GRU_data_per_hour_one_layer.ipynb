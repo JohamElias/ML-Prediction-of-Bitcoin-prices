{
 "cells": [
  {
   "cell_type": "markdown",
   "metadata": {
    "id": "OOuHtDJg7OML"
   },
   "source": [
    "Objetivo de este modelo base: El objetivo de este proyecto es desarrollar un modelo de predicción de precios de Bitcoin con métodos de aprendizaje automático utilizando datos de series temporales. Empleando algoritmos como la regresión lineal y las máquinas de soporte vectorial (SVM) con diferentes funciones de núcleo y parámetros, el proyecto busca identificar el modelo que minimice el error en la predicción de precios de cierre de Bitcoin."
   ]
  },
  {
   "cell_type": "code",
   "execution_count": 1,
   "metadata": {
    "id": "N-Q0loiT5kq2"
   },
   "outputs": [],
   "source": [
    "import pandas as pd\n",
    "import numpy as np\n",
    "from sklearn.model_selection import train_test_split\n",
    "from sklearn.linear_model import LinearRegression\n",
    "from sklearn.svm import SVR\n",
    "import matplotlib.dates as mdates\n",
    "from sklearn.metrics import mean_squared_error, mean_absolute_error\n",
    "from sklearn.preprocessing import StandardScaler\n",
    "from datetime import datetime\n",
    "import matplotlib.pyplot as plt\n",
    "from sklearn.preprocessing import MinMaxScaler"
   ]
  },
  {
   "cell_type": "code",
   "execution_count": 3,
   "metadata": {
    "id": "V90lATqy85X3"
   },
   "outputs": [],
   "source": [
    "df_daily = pd.read_csv('bitcoin_2017_to_2023.csv', parse_dates=['timestamp'])\n",
    "df_daily.set_index('timestamp', inplace=True)\n",
    "\n",
    "daily_data = df_daily.resample('D').agg({\n",
    "    'open': 'first',\n",
    "    'high': 'max',\n",
    "    'low': 'min',\n",
    "    'close': 'last',\n",
    "    'volume': 'sum',\n",
    "    'quote_asset_volume': 'sum',\n",
    "    'number_of_trades': 'sum',\n",
    "    'taker_buy_base_asset_volume': 'sum',\n",
    "    'taker_buy_quote_asset_volume': 'sum'\n",
    "})"
   ]
  },
  {
   "cell_type": "code",
   "execution_count": 4,
   "metadata": {
    "colab": {
     "base_uri": "https://localhost:8080/"
    },
    "id": "nqYIgM4wkXGW",
    "outputId": "a2ad8213-256b-4e51-945e-eb0b372b7919"
   },
   "outputs": [
    {
     "name": "stderr",
     "output_type": "stream",
     "text": [
      "<ipython-input-4-3cb28ced6d85>:4: FutureWarning: 'H' is deprecated and will be removed in a future version, please use 'h' instead.\n",
      "  hourly_data = df_hourly.resample('H').agg({\n"
     ]
    }
   ],
   "source": [
    "df_hourly = pd.read_csv('bitcoin_2017_to_2023.csv', parse_dates=['timestamp'])\n",
    "df_hourly.set_index('timestamp', inplace=True)\n",
    "\n",
    "hourly_data = df_hourly.resample('H').agg({\n",
    "    'open': 'first',\n",
    "    'high': 'max',\n",
    "    'low': 'min',\n",
    "    'close': 'last',\n",
    "    'volume': 'sum',\n",
    "    'quote_asset_volume': 'sum',\n",
    "    'number_of_trades': 'sum',\n",
    "    'taker_buy_base_asset_volume': 'sum',\n",
    "    'taker_buy_quote_asset_volume': 'sum'\n",
    "})"
   ]
  },
  {
   "cell_type": "code",
   "execution_count": 5,
   "metadata": {
    "colab": {
     "base_uri": "https://localhost:8080/"
    },
    "id": "HIApklvyk_AP",
    "outputId": "6f83f5e5-1319-4e97-8d67-1a51f9dd7487"
   },
   "outputs": [
    {
     "data": {
      "text/plain": [
       "((2176, 9), (52210, 9))"
      ]
     },
     "execution_count": 5,
     "metadata": {},
     "output_type": "execute_result"
    }
   ],
   "source": [
    "daily_data.shape, hourly_data.shape"
   ]
  },
  {
   "cell_type": "code",
   "execution_count": 8,
   "metadata": {
    "id": "f5BK_nKVkggV"
   },
   "outputs": [],
   "source": [
    "hourly_data['hour'] = hourly_data.index.hour"
   ]
  },
  {
   "cell_type": "code",
   "execution_count": 66,
   "metadata": {
    "colab": {
     "base_uri": "https://localhost:8080/"
    },
    "id": "1YF9NksksA8U",
    "outputId": "7497345e-8abd-42bf-b32d-3db06b601483"
   },
   "outputs": [
    {
     "data": {
      "text/plain": [
       "1440"
      ]
     },
     "execution_count": 66,
     "metadata": {},
     "output_type": "execute_result"
    }
   ],
   "source": [
    "60* 24"
   ]
  },
  {
   "cell_type": "code",
   "execution_count": 67,
   "metadata": {
    "colab": {
     "base_uri": "https://localhost:8080/"
    },
    "id": "yfgU4dcalqse",
    "outputId": "235117cc-81d4-489a-c94f-b33dba3bb3ae"
   },
   "outputs": [
    {
     "data": {
      "text/plain": [
       "((50770, 10), (1440, 10))"
      ]
     },
     "execution_count": 67,
     "metadata": {},
     "output_type": "execute_result"
    }
   ],
   "source": [
    "prediction_days = 60 * 24\n",
    "train_set = hourly_data[:len(hourly_data)-prediction_days]\n",
    "test_set = hourly_data[len(hourly_data)-prediction_days:]\n",
    "train_set.shape, test_set.shape"
   ]
  },
  {
   "cell_type": "code",
   "execution_count": 68,
   "metadata": {
    "colab": {
     "base_uri": "https://localhost:8080/"
    },
    "id": "TYLhIt-4o8Zp",
    "outputId": "e09f1f4a-5724-40eb-8e49-42797910d4ed"
   },
   "outputs": [
    {
     "data": {
      "text/plain": [
       "((50642, 10), (1440, 10))"
      ]
     },
     "execution_count": 68,
     "metadata": {},
     "output_type": "execute_result"
    }
   ],
   "source": [
    "train_set = train_set.dropna()\n",
    "test_set = test_set.dropna()\n",
    "train_set.shape, test_set.shape"
   ]
  },
  {
   "cell_type": "code",
   "execution_count": 69,
   "metadata": {
    "id": "VLLuWauOnhnW"
   },
   "outputs": [],
   "source": [
    "X_train = train_set[['open', 'high', 'low', 'volume', 'quote_asset_volume', 'number_of_trades',\n",
    "        'taker_buy_base_asset_volume', 'taker_buy_quote_asset_volume','hour']]\n",
    "y_train = train_set['close'].shift(-1)"
   ]
  },
  {
   "cell_type": "code",
   "execution_count": 70,
   "metadata": {
    "id": "h2NKrSN-pbFH"
   },
   "outputs": [],
   "source": [
    "y_train = y_train.dropna()\n",
    "X_train = X_train.loc[y_train.index]"
   ]
  },
  {
   "cell_type": "code",
   "execution_count": 71,
   "metadata": {
    "id": "bgXXiuXIn_IP"
   },
   "outputs": [],
   "source": [
    "X_test = test_set[['open', 'high', 'low', 'volume', 'quote_asset_volume', 'number_of_trades',\n",
    "        'taker_buy_base_asset_volume', 'taker_buy_quote_asset_volume','hour']]\n",
    "y_test = test_set['close'].shift(-1)"
   ]
  },
  {
   "cell_type": "code",
   "execution_count": 72,
   "metadata": {
    "id": "xDyJXIRNpg6q"
   },
   "outputs": [],
   "source": [
    "y_test = y_test.dropna()\n",
    "X_test = X_test.loc[y_test.index]"
   ]
  },
  {
   "cell_type": "code",
   "execution_count": 89,
   "metadata": {
    "colab": {
     "base_uri": "https://localhost:8080/",
     "height": 455
    },
    "id": "-iG1OTXWyEwx",
    "outputId": "010d55cc-a4e5-4fdb-f011-133d287ccd43"
   },
   "outputs": [
    {
     "data": {
      "application/vnd.google.colaboratory.intrinsic+json": {
       "summary": "{\n  \"name\": \"X_test\",\n  \"rows\": 1439,\n  \"fields\": [\n    {\n      \"column\": \"timestamp\",\n      \"properties\": {\n        \"dtype\": \"date\",\n        \"min\": \"2023-06-02 14:00:00\",\n        \"max\": \"2023-08-01 12:00:00\",\n        \"num_unique_values\": 1439,\n        \"samples\": [\n          \"2023-06-09 14:00:00\",\n          \"2023-06-27 19:00:00\",\n          \"2023-06-25 10:00:00\"\n        ],\n        \"semantic_type\": \"\",\n        \"description\": \"\"\n      }\n    },\n    {\n      \"column\": \"open\",\n      \"properties\": {\n        \"dtype\": \"number\",\n        \"std\": 1847.0517718525873,\n        \"min\": 24923.51,\n        \"max\": 31606.0,\n        \"num_unique_values\": 1420,\n        \"samples\": [\n          27170.66,\n          25986.74,\n          30476.68\n        ],\n        \"semantic_type\": \"\",\n        \"description\": \"\"\n      }\n    },\n    {\n      \"column\": \"high\",\n      \"properties\": {\n        \"dtype\": \"number\",\n        \"std\": 1847.9990836415311,\n        \"min\": 24975.17,\n        \"max\": 31804.2,\n        \"num_unique_values\": 1385,\n        \"samples\": [\n          29909.08,\n          25905.23,\n          26699.99\n        ],\n        \"semantic_type\": \"\",\n        \"description\": \"\"\n      }\n    },\n    {\n      \"column\": \"low\",\n      \"properties\": {\n        \"dtype\": \"number\",\n        \"std\": 1845.4249881498877,\n        \"min\": 24800.0,\n        \"max\": 31401.64,\n        \"num_unique_values\": 1388,\n        \"samples\": [\n          30610.01,\n          25740.02,\n          27001.73\n        ],\n        \"semantic_type\": \"\",\n        \"description\": \"\"\n      }\n    },\n    {\n      \"column\": \"volume\",\n      \"properties\": {\n        \"dtype\": \"number\",\n        \"std\": 1748.5841565548735,\n        \"min\": 132.65228,\n        \"max\": 18824.0601,\n        \"num_unique_values\": 1439,\n        \"samples\": [\n          1793.16256,\n          931.40904,\n          934.08771\n        ],\n        \"semantic_type\": \"\",\n        \"description\": \"\"\n      }\n    },\n    {\n      \"column\": \"quote_asset_volume\",\n      \"properties\": {\n        \"dtype\": \"number\",\n        \"std\": 50920907.20854376,\n        \"min\": 3888854.8177359,\n        \"max\": 568592910.2173816,\n        \"num_unique_values\": 1439,\n        \"samples\": [\n          47732735.7047216,\n          28580581.1314922,\n          28623215.0924976\n        ],\n        \"semantic_type\": \"\",\n        \"description\": \"\"\n      }\n    },\n    {\n      \"column\": \"number_of_trades\",\n      \"properties\": {\n        \"dtype\": \"number\",\n        \"std\": 28665,\n        \"min\": 8666,\n        \"max\": 315432,\n        \"num_unique_values\": 1408,\n        \"samples\": [\n          37876,\n          23192,\n          16591\n        ],\n        \"semantic_type\": \"\",\n        \"description\": \"\"\n      }\n    },\n    {\n      \"column\": \"taker_buy_base_asset_volume\",\n      \"properties\": {\n        \"dtype\": \"number\",\n        \"std\": 874.9812054512413,\n        \"min\": 51.1226,\n        \"max\": 9341.06572,\n        \"num_unique_values\": 1439,\n        \"samples\": [\n          833.0613000000001,\n          374.32919,\n          463.36997\n        ],\n        \"semantic_type\": \"\",\n        \"description\": \"\"\n      }\n    },\n    {\n      \"column\": \"taker_buy_quote_asset_volume\",\n      \"properties\": {\n        \"dtype\": \"number\",\n        \"std\": 25563646.22849692,\n        \"min\": 1498707.2909878,\n        \"max\": 288092738.4421186,\n        \"num_unique_values\": 1439,\n        \"samples\": [\n          22173090.0678441,\n          11486062.9036473,\n          14198802.2892479\n        ],\n        \"semantic_type\": \"\",\n        \"description\": \"\"\n      }\n    },\n    {\n      \"column\": \"hour\",\n      \"properties\": {\n        \"dtype\": \"int32\",\n        \"num_unique_values\": 24,\n        \"samples\": [\n          22,\n          6,\n          14\n        ],\n        \"semantic_type\": \"\",\n        \"description\": \"\"\n      }\n    }\n  ]\n}",
       "type": "dataframe",
       "variable_name": "X_test"
      },
      "text/html": [
       "\n",
       "  <div id=\"df-1f42337d-9fe5-41e8-b576-039d1a37ac64\" class=\"colab-df-container\">\n",
       "    <div>\n",
       "<style scoped>\n",
       "    .dataframe tbody tr th:only-of-type {\n",
       "        vertical-align: middle;\n",
       "    }\n",
       "\n",
       "    .dataframe tbody tr th {\n",
       "        vertical-align: top;\n",
       "    }\n",
       "\n",
       "    .dataframe thead th {\n",
       "        text-align: right;\n",
       "    }\n",
       "</style>\n",
       "<table border=\"1\" class=\"dataframe\">\n",
       "  <thead>\n",
       "    <tr style=\"text-align: right;\">\n",
       "      <th></th>\n",
       "      <th>open</th>\n",
       "      <th>high</th>\n",
       "      <th>low</th>\n",
       "      <th>volume</th>\n",
       "      <th>quote_asset_volume</th>\n",
       "      <th>number_of_trades</th>\n",
       "      <th>taker_buy_base_asset_volume</th>\n",
       "      <th>taker_buy_quote_asset_volume</th>\n",
       "      <th>hour</th>\n",
       "    </tr>\n",
       "    <tr>\n",
       "      <th>timestamp</th>\n",
       "      <th></th>\n",
       "      <th></th>\n",
       "      <th></th>\n",
       "      <th></th>\n",
       "      <th></th>\n",
       "      <th></th>\n",
       "      <th></th>\n",
       "      <th></th>\n",
       "      <th></th>\n",
       "    </tr>\n",
       "  </thead>\n",
       "  <tbody>\n",
       "    <tr>\n",
       "      <th>2023-06-02 14:00:00</th>\n",
       "      <td>26908.85</td>\n",
       "      <td>26986.08</td>\n",
       "      <td>26890.00</td>\n",
       "      <td>1685.83953</td>\n",
       "      <td>4.541820e+07</td>\n",
       "      <td>39244</td>\n",
       "      <td>905.23901</td>\n",
       "      <td>2.438875e+07</td>\n",
       "      <td>14</td>\n",
       "    </tr>\n",
       "    <tr>\n",
       "      <th>2023-06-02 15:00:00</th>\n",
       "      <td>26964.75</td>\n",
       "      <td>27107.34</td>\n",
       "      <td>26962.99</td>\n",
       "      <td>1248.06997</td>\n",
       "      <td>3.372657e+07</td>\n",
       "      <td>32129</td>\n",
       "      <td>664.48891</td>\n",
       "      <td>1.795662e+07</td>\n",
       "      <td>15</td>\n",
       "    </tr>\n",
       "    <tr>\n",
       "      <th>2023-06-02 16:00:00</th>\n",
       "      <td>27095.93</td>\n",
       "      <td>27120.02</td>\n",
       "      <td>27032.93</td>\n",
       "      <td>1402.81796</td>\n",
       "      <td>3.797328e+07</td>\n",
       "      <td>32265</td>\n",
       "      <td>691.10548</td>\n",
       "      <td>1.870719e+07</td>\n",
       "      <td>16</td>\n",
       "    </tr>\n",
       "    <tr>\n",
       "      <th>2023-06-02 17:00:00</th>\n",
       "      <td>27056.06</td>\n",
       "      <td>27093.82</td>\n",
       "      <td>27023.58</td>\n",
       "      <td>952.23822</td>\n",
       "      <td>2.577074e+07</td>\n",
       "      <td>24896</td>\n",
       "      <td>406.38239</td>\n",
       "      <td>1.099782e+07</td>\n",
       "      <td>17</td>\n",
       "    </tr>\n",
       "    <tr>\n",
       "      <th>2023-06-02 18:00:00</th>\n",
       "      <td>27057.57</td>\n",
       "      <td>27193.62</td>\n",
       "      <td>27006.22</td>\n",
       "      <td>1502.23473</td>\n",
       "      <td>4.070083e+07</td>\n",
       "      <td>39661</td>\n",
       "      <td>822.15579</td>\n",
       "      <td>2.227701e+07</td>\n",
       "      <td>18</td>\n",
       "    </tr>\n",
       "    <tr>\n",
       "      <th>...</th>\n",
       "      <td>...</td>\n",
       "      <td>...</td>\n",
       "      <td>...</td>\n",
       "      <td>...</td>\n",
       "      <td>...</td>\n",
       "      <td>...</td>\n",
       "      <td>...</td>\n",
       "      <td>...</td>\n",
       "      <td>...</td>\n",
       "    </tr>\n",
       "    <tr>\n",
       "      <th>2023-08-01 08:00:00</th>\n",
       "      <td>28937.31</td>\n",
       "      <td>28994.91</td>\n",
       "      <td>28907.04</td>\n",
       "      <td>1025.98215</td>\n",
       "      <td>2.969904e+07</td>\n",
       "      <td>21442</td>\n",
       "      <td>535.91879</td>\n",
       "      <td>1.551395e+07</td>\n",
       "      <td>8</td>\n",
       "    </tr>\n",
       "    <tr>\n",
       "      <th>2023-08-01 09:00:00</th>\n",
       "      <td>28994.91</td>\n",
       "      <td>28995.59</td>\n",
       "      <td>28926.82</td>\n",
       "      <td>701.68997</td>\n",
       "      <td>2.031670e+07</td>\n",
       "      <td>18388</td>\n",
       "      <td>272.62159</td>\n",
       "      <td>7.893029e+06</td>\n",
       "      <td>9</td>\n",
       "    </tr>\n",
       "    <tr>\n",
       "      <th>2023-08-01 10:00:00</th>\n",
       "      <td>28928.36</td>\n",
       "      <td>28946.00</td>\n",
       "      <td>28900.00</td>\n",
       "      <td>1026.03779</td>\n",
       "      <td>2.967131e+07</td>\n",
       "      <td>20151</td>\n",
       "      <td>319.02408</td>\n",
       "      <td>9.226202e+06</td>\n",
       "      <td>10</td>\n",
       "    </tr>\n",
       "    <tr>\n",
       "      <th>2023-08-01 11:00:00</th>\n",
       "      <td>28928.02</td>\n",
       "      <td>28930.57</td>\n",
       "      <td>28862.18</td>\n",
       "      <td>891.02253</td>\n",
       "      <td>2.574221e+07</td>\n",
       "      <td>22005</td>\n",
       "      <td>354.41154</td>\n",
       "      <td>1.023926e+07</td>\n",
       "      <td>11</td>\n",
       "    </tr>\n",
       "    <tr>\n",
       "      <th>2023-08-01 12:00:00</th>\n",
       "      <td>28862.19</td>\n",
       "      <td>28927.50</td>\n",
       "      <td>28753.74</td>\n",
       "      <td>1913.25397</td>\n",
       "      <td>5.523307e+07</td>\n",
       "      <td>41270</td>\n",
       "      <td>981.18141</td>\n",
       "      <td>2.833167e+07</td>\n",
       "      <td>12</td>\n",
       "    </tr>\n",
       "  </tbody>\n",
       "</table>\n",
       "<p>1439 rows × 9 columns</p>\n",
       "</div>\n",
       "    <div class=\"colab-df-buttons\">\n",
       "\n",
       "  <div class=\"colab-df-container\">\n",
       "    <button class=\"colab-df-convert\" onclick=\"convertToInteractive('df-1f42337d-9fe5-41e8-b576-039d1a37ac64')\"\n",
       "            title=\"Convert this dataframe to an interactive table.\"\n",
       "            style=\"display:none;\">\n",
       "\n",
       "  <svg xmlns=\"http://www.w3.org/2000/svg\" height=\"24px\" viewBox=\"0 -960 960 960\">\n",
       "    <path d=\"M120-120v-720h720v720H120Zm60-500h600v-160H180v160Zm220 220h160v-160H400v160Zm0 220h160v-160H400v160ZM180-400h160v-160H180v160Zm440 0h160v-160H620v160ZM180-180h160v-160H180v160Zm440 0h160v-160H620v160Z\"/>\n",
       "  </svg>\n",
       "    </button>\n",
       "\n",
       "  <style>\n",
       "    .colab-df-container {\n",
       "      display:flex;\n",
       "      gap: 12px;\n",
       "    }\n",
       "\n",
       "    .colab-df-convert {\n",
       "      background-color: #E8F0FE;\n",
       "      border: none;\n",
       "      border-radius: 50%;\n",
       "      cursor: pointer;\n",
       "      display: none;\n",
       "      fill: #1967D2;\n",
       "      height: 32px;\n",
       "      padding: 0 0 0 0;\n",
       "      width: 32px;\n",
       "    }\n",
       "\n",
       "    .colab-df-convert:hover {\n",
       "      background-color: #E2EBFA;\n",
       "      box-shadow: 0px 1px 2px rgba(60, 64, 67, 0.3), 0px 1px 3px 1px rgba(60, 64, 67, 0.15);\n",
       "      fill: #174EA6;\n",
       "    }\n",
       "\n",
       "    .colab-df-buttons div {\n",
       "      margin-bottom: 4px;\n",
       "    }\n",
       "\n",
       "    [theme=dark] .colab-df-convert {\n",
       "      background-color: #3B4455;\n",
       "      fill: #D2E3FC;\n",
       "    }\n",
       "\n",
       "    [theme=dark] .colab-df-convert:hover {\n",
       "      background-color: #434B5C;\n",
       "      box-shadow: 0px 1px 3px 1px rgba(0, 0, 0, 0.15);\n",
       "      filter: drop-shadow(0px 1px 2px rgba(0, 0, 0, 0.3));\n",
       "      fill: #FFFFFF;\n",
       "    }\n",
       "  </style>\n",
       "\n",
       "    <script>\n",
       "      const buttonEl =\n",
       "        document.querySelector('#df-1f42337d-9fe5-41e8-b576-039d1a37ac64 button.colab-df-convert');\n",
       "      buttonEl.style.display =\n",
       "        google.colab.kernel.accessAllowed ? 'block' : 'none';\n",
       "\n",
       "      async function convertToInteractive(key) {\n",
       "        const element = document.querySelector('#df-1f42337d-9fe5-41e8-b576-039d1a37ac64');\n",
       "        const dataTable =\n",
       "          await google.colab.kernel.invokeFunction('convertToInteractive',\n",
       "                                                    [key], {});\n",
       "        if (!dataTable) return;\n",
       "\n",
       "        const docLinkHtml = 'Like what you see? Visit the ' +\n",
       "          '<a target=\"_blank\" href=https://colab.research.google.com/notebooks/data_table.ipynb>data table notebook</a>'\n",
       "          + ' to learn more about interactive tables.';\n",
       "        element.innerHTML = '';\n",
       "        dataTable['output_type'] = 'display_data';\n",
       "        await google.colab.output.renderOutput(dataTable, element);\n",
       "        const docLink = document.createElement('div');\n",
       "        docLink.innerHTML = docLinkHtml;\n",
       "        element.appendChild(docLink);\n",
       "      }\n",
       "    </script>\n",
       "  </div>\n",
       "\n",
       "\n",
       "<div id=\"df-94217ec5-d1d3-4c32-b2af-a87896c94e68\">\n",
       "  <button class=\"colab-df-quickchart\" onclick=\"quickchart('df-94217ec5-d1d3-4c32-b2af-a87896c94e68')\"\n",
       "            title=\"Suggest charts\"\n",
       "            style=\"display:none;\">\n",
       "\n",
       "<svg xmlns=\"http://www.w3.org/2000/svg\" height=\"24px\"viewBox=\"0 0 24 24\"\n",
       "     width=\"24px\">\n",
       "    <g>\n",
       "        <path d=\"M19 3H5c-1.1 0-2 .9-2 2v14c0 1.1.9 2 2 2h14c1.1 0 2-.9 2-2V5c0-1.1-.9-2-2-2zM9 17H7v-7h2v7zm4 0h-2V7h2v10zm4 0h-2v-4h2v4z\"/>\n",
       "    </g>\n",
       "</svg>\n",
       "  </button>\n",
       "\n",
       "<style>\n",
       "  .colab-df-quickchart {\n",
       "      --bg-color: #E8F0FE;\n",
       "      --fill-color: #1967D2;\n",
       "      --hover-bg-color: #E2EBFA;\n",
       "      --hover-fill-color: #174EA6;\n",
       "      --disabled-fill-color: #AAA;\n",
       "      --disabled-bg-color: #DDD;\n",
       "  }\n",
       "\n",
       "  [theme=dark] .colab-df-quickchart {\n",
       "      --bg-color: #3B4455;\n",
       "      --fill-color: #D2E3FC;\n",
       "      --hover-bg-color: #434B5C;\n",
       "      --hover-fill-color: #FFFFFF;\n",
       "      --disabled-bg-color: #3B4455;\n",
       "      --disabled-fill-color: #666;\n",
       "  }\n",
       "\n",
       "  .colab-df-quickchart {\n",
       "    background-color: var(--bg-color);\n",
       "    border: none;\n",
       "    border-radius: 50%;\n",
       "    cursor: pointer;\n",
       "    display: none;\n",
       "    fill: var(--fill-color);\n",
       "    height: 32px;\n",
       "    padding: 0;\n",
       "    width: 32px;\n",
       "  }\n",
       "\n",
       "  .colab-df-quickchart:hover {\n",
       "    background-color: var(--hover-bg-color);\n",
       "    box-shadow: 0 1px 2px rgba(60, 64, 67, 0.3), 0 1px 3px 1px rgba(60, 64, 67, 0.15);\n",
       "    fill: var(--button-hover-fill-color);\n",
       "  }\n",
       "\n",
       "  .colab-df-quickchart-complete:disabled,\n",
       "  .colab-df-quickchart-complete:disabled:hover {\n",
       "    background-color: var(--disabled-bg-color);\n",
       "    fill: var(--disabled-fill-color);\n",
       "    box-shadow: none;\n",
       "  }\n",
       "\n",
       "  .colab-df-spinner {\n",
       "    border: 2px solid var(--fill-color);\n",
       "    border-color: transparent;\n",
       "    border-bottom-color: var(--fill-color);\n",
       "    animation:\n",
       "      spin 1s steps(1) infinite;\n",
       "  }\n",
       "\n",
       "  @keyframes spin {\n",
       "    0% {\n",
       "      border-color: transparent;\n",
       "      border-bottom-color: var(--fill-color);\n",
       "      border-left-color: var(--fill-color);\n",
       "    }\n",
       "    20% {\n",
       "      border-color: transparent;\n",
       "      border-left-color: var(--fill-color);\n",
       "      border-top-color: var(--fill-color);\n",
       "    }\n",
       "    30% {\n",
       "      border-color: transparent;\n",
       "      border-left-color: var(--fill-color);\n",
       "      border-top-color: var(--fill-color);\n",
       "      border-right-color: var(--fill-color);\n",
       "    }\n",
       "    40% {\n",
       "      border-color: transparent;\n",
       "      border-right-color: var(--fill-color);\n",
       "      border-top-color: var(--fill-color);\n",
       "    }\n",
       "    60% {\n",
       "      border-color: transparent;\n",
       "      border-right-color: var(--fill-color);\n",
       "    }\n",
       "    80% {\n",
       "      border-color: transparent;\n",
       "      border-right-color: var(--fill-color);\n",
       "      border-bottom-color: var(--fill-color);\n",
       "    }\n",
       "    90% {\n",
       "      border-color: transparent;\n",
       "      border-bottom-color: var(--fill-color);\n",
       "    }\n",
       "  }\n",
       "</style>\n",
       "\n",
       "  <script>\n",
       "    async function quickchart(key) {\n",
       "      const quickchartButtonEl =\n",
       "        document.querySelector('#' + key + ' button');\n",
       "      quickchartButtonEl.disabled = true;  // To prevent multiple clicks.\n",
       "      quickchartButtonEl.classList.add('colab-df-spinner');\n",
       "      try {\n",
       "        const charts = await google.colab.kernel.invokeFunction(\n",
       "            'suggestCharts', [key], {});\n",
       "      } catch (error) {\n",
       "        console.error('Error during call to suggestCharts:', error);\n",
       "      }\n",
       "      quickchartButtonEl.classList.remove('colab-df-spinner');\n",
       "      quickchartButtonEl.classList.add('colab-df-quickchart-complete');\n",
       "    }\n",
       "    (() => {\n",
       "      let quickchartButtonEl =\n",
       "        document.querySelector('#df-94217ec5-d1d3-4c32-b2af-a87896c94e68 button');\n",
       "      quickchartButtonEl.style.display =\n",
       "        google.colab.kernel.accessAllowed ? 'block' : 'none';\n",
       "    })();\n",
       "  </script>\n",
       "</div>\n",
       "\n",
       "  <div id=\"id_ea9eaf72-ed8b-4821-a2ab-a08fa68ae2c3\">\n",
       "    <style>\n",
       "      .colab-df-generate {\n",
       "        background-color: #E8F0FE;\n",
       "        border: none;\n",
       "        border-radius: 50%;\n",
       "        cursor: pointer;\n",
       "        display: none;\n",
       "        fill: #1967D2;\n",
       "        height: 32px;\n",
       "        padding: 0 0 0 0;\n",
       "        width: 32px;\n",
       "      }\n",
       "\n",
       "      .colab-df-generate:hover {\n",
       "        background-color: #E2EBFA;\n",
       "        box-shadow: 0px 1px 2px rgba(60, 64, 67, 0.3), 0px 1px 3px 1px rgba(60, 64, 67, 0.15);\n",
       "        fill: #174EA6;\n",
       "      }\n",
       "\n",
       "      [theme=dark] .colab-df-generate {\n",
       "        background-color: #3B4455;\n",
       "        fill: #D2E3FC;\n",
       "      }\n",
       "\n",
       "      [theme=dark] .colab-df-generate:hover {\n",
       "        background-color: #434B5C;\n",
       "        box-shadow: 0px 1px 3px 1px rgba(0, 0, 0, 0.15);\n",
       "        filter: drop-shadow(0px 1px 2px rgba(0, 0, 0, 0.3));\n",
       "        fill: #FFFFFF;\n",
       "      }\n",
       "    </style>\n",
       "    <button class=\"colab-df-generate\" onclick=\"generateWithVariable('X_test')\"\n",
       "            title=\"Generate code using this dataframe.\"\n",
       "            style=\"display:none;\">\n",
       "\n",
       "  <svg xmlns=\"http://www.w3.org/2000/svg\" height=\"24px\"viewBox=\"0 0 24 24\"\n",
       "       width=\"24px\">\n",
       "    <path d=\"M7,19H8.4L18.45,9,17,7.55,7,17.6ZM5,21V16.75L18.45,3.32a2,2,0,0,1,2.83,0l1.4,1.43a1.91,1.91,0,0,1,.58,1.4,1.91,1.91,0,0,1-.58,1.4L9.25,21ZM18.45,9,17,7.55Zm-12,3A5.31,5.31,0,0,0,4.9,8.1,5.31,5.31,0,0,0,1,6.5,5.31,5.31,0,0,0,4.9,4.9,5.31,5.31,0,0,0,6.5,1,5.31,5.31,0,0,0,8.1,4.9,5.31,5.31,0,0,0,12,6.5,5.46,5.46,0,0,0,6.5,12Z\"/>\n",
       "  </svg>\n",
       "    </button>\n",
       "    <script>\n",
       "      (() => {\n",
       "      const buttonEl =\n",
       "        document.querySelector('#id_ea9eaf72-ed8b-4821-a2ab-a08fa68ae2c3 button.colab-df-generate');\n",
       "      buttonEl.style.display =\n",
       "        google.colab.kernel.accessAllowed ? 'block' : 'none';\n",
       "\n",
       "      buttonEl.onclick = () => {\n",
       "        google.colab.notebook.generateWithVariable('X_test');\n",
       "      }\n",
       "      })();\n",
       "    </script>\n",
       "  </div>\n",
       "\n",
       "    </div>\n",
       "  </div>\n"
      ],
      "text/plain": [
       "                         open      high       low      volume  \\\n",
       "timestamp                                                       \n",
       "2023-06-02 14:00:00  26908.85  26986.08  26890.00  1685.83953   \n",
       "2023-06-02 15:00:00  26964.75  27107.34  26962.99  1248.06997   \n",
       "2023-06-02 16:00:00  27095.93  27120.02  27032.93  1402.81796   \n",
       "2023-06-02 17:00:00  27056.06  27093.82  27023.58   952.23822   \n",
       "2023-06-02 18:00:00  27057.57  27193.62  27006.22  1502.23473   \n",
       "...                       ...       ...       ...         ...   \n",
       "2023-08-01 08:00:00  28937.31  28994.91  28907.04  1025.98215   \n",
       "2023-08-01 09:00:00  28994.91  28995.59  28926.82   701.68997   \n",
       "2023-08-01 10:00:00  28928.36  28946.00  28900.00  1026.03779   \n",
       "2023-08-01 11:00:00  28928.02  28930.57  28862.18   891.02253   \n",
       "2023-08-01 12:00:00  28862.19  28927.50  28753.74  1913.25397   \n",
       "\n",
       "                     quote_asset_volume  number_of_trades  \\\n",
       "timestamp                                                   \n",
       "2023-06-02 14:00:00        4.541820e+07             39244   \n",
       "2023-06-02 15:00:00        3.372657e+07             32129   \n",
       "2023-06-02 16:00:00        3.797328e+07             32265   \n",
       "2023-06-02 17:00:00        2.577074e+07             24896   \n",
       "2023-06-02 18:00:00        4.070083e+07             39661   \n",
       "...                                 ...               ...   \n",
       "2023-08-01 08:00:00        2.969904e+07             21442   \n",
       "2023-08-01 09:00:00        2.031670e+07             18388   \n",
       "2023-08-01 10:00:00        2.967131e+07             20151   \n",
       "2023-08-01 11:00:00        2.574221e+07             22005   \n",
       "2023-08-01 12:00:00        5.523307e+07             41270   \n",
       "\n",
       "                     taker_buy_base_asset_volume  \\\n",
       "timestamp                                          \n",
       "2023-06-02 14:00:00                    905.23901   \n",
       "2023-06-02 15:00:00                    664.48891   \n",
       "2023-06-02 16:00:00                    691.10548   \n",
       "2023-06-02 17:00:00                    406.38239   \n",
       "2023-06-02 18:00:00                    822.15579   \n",
       "...                                          ...   \n",
       "2023-08-01 08:00:00                    535.91879   \n",
       "2023-08-01 09:00:00                    272.62159   \n",
       "2023-08-01 10:00:00                    319.02408   \n",
       "2023-08-01 11:00:00                    354.41154   \n",
       "2023-08-01 12:00:00                    981.18141   \n",
       "\n",
       "                     taker_buy_quote_asset_volume  hour  \n",
       "timestamp                                                \n",
       "2023-06-02 14:00:00                  2.438875e+07    14  \n",
       "2023-06-02 15:00:00                  1.795662e+07    15  \n",
       "2023-06-02 16:00:00                  1.870719e+07    16  \n",
       "2023-06-02 17:00:00                  1.099782e+07    17  \n",
       "2023-06-02 18:00:00                  2.227701e+07    18  \n",
       "...                                           ...   ...  \n",
       "2023-08-01 08:00:00                  1.551395e+07     8  \n",
       "2023-08-01 09:00:00                  7.893029e+06     9  \n",
       "2023-08-01 10:00:00                  9.226202e+06    10  \n",
       "2023-08-01 11:00:00                  1.023926e+07    11  \n",
       "2023-08-01 12:00:00                  2.833167e+07    12  \n",
       "\n",
       "[1439 rows x 9 columns]"
      ]
     },
     "execution_count": 89,
     "metadata": {},
     "output_type": "execute_result"
    }
   ],
   "source": [
    "X_test"
   ]
  },
  {
   "cell_type": "code",
   "execution_count": 73,
   "metadata": {
    "colab": {
     "base_uri": "https://localhost:8080/"
    },
    "id": "qAXOfOEdC2v9",
    "outputId": "e82fe53b-a591-4f5c-b9e1-cd15d5eea6de"
   },
   "outputs": [
    {
     "name": "stdout",
     "output_type": "stream",
     "text": [
      "Valores faltantes en X_train:\n",
      "open                            0\n",
      "high                            0\n",
      "low                             0\n",
      "volume                          0\n",
      "quote_asset_volume              0\n",
      "number_of_trades                0\n",
      "taker_buy_base_asset_volume     0\n",
      "taker_buy_quote_asset_volume    0\n",
      "hour                            0\n",
      "dtype: int64\n"
     ]
    }
   ],
   "source": [
    "print(\"Valores faltantes en X_train:\")\n",
    "print(X_train.isnull().sum())"
   ]
  },
  {
   "cell_type": "code",
   "execution_count": 74,
   "metadata": {
    "colab": {
     "base_uri": "https://localhost:8080/"
    },
    "id": "P6xAJe_fJwUz",
    "outputId": "0f3254ca-f327-4e96-cf59-8b6d3771864f"
   },
   "outputs": [
    {
     "name": "stdout",
     "output_type": "stream",
     "text": [
      "Valores faltantes en y_train: 0\n"
     ]
    }
   ],
   "source": [
    "print(\"Valores faltantes en y_train:\", y_train.isnull().sum())"
   ]
  },
  {
   "cell_type": "code",
   "execution_count": 75,
   "metadata": {
    "colab": {
     "base_uri": "https://localhost:8080/"
    },
    "id": "qywoy5RQpfSB",
    "outputId": "9ab4d337-c85b-437c-cd03-339aafa5c004"
   },
   "outputs": [
    {
     "name": "stdout",
     "output_type": "stream",
     "text": [
      "Valores faltantes en y_test: 0\n"
     ]
    }
   ],
   "source": [
    "print(\"Valores faltantes en y_test:\", y_test.isnull().sum())"
   ]
  },
  {
   "cell_type": "code",
   "execution_count": 76,
   "metadata": {
    "colab": {
     "base_uri": "https://localhost:8080/"
    },
    "id": "RIA_yvYYJfef",
    "outputId": "f1bd884d-934a-46fb-ba75-d2386ce11833"
   },
   "outputs": [
    {
     "data": {
      "text/plain": [
       "((50641, 9), (50641,), (1439, 9), (1439,))"
      ]
     },
     "execution_count": 76,
     "metadata": {},
     "output_type": "execute_result"
    }
   ],
   "source": [
    "X_train.shape, y_train.shape, X_test.shape, y_test.shape"
   ]
  },
  {
   "cell_type": "code",
   "execution_count": 77,
   "metadata": {
    "id": "0EhUEQj9C2r6"
   },
   "outputs": [],
   "source": [
    "scaler = StandardScaler()\n",
    "X_train_scaled = scaler.fit_transform(X_train)\n",
    "X_test_scaled = scaler.transform(X_test)"
   ]
  },
  {
   "cell_type": "code",
   "execution_count": 78,
   "metadata": {
    "colab": {
     "base_uri": "https://localhost:8080/"
    },
    "id": "qyDG2hSbQQLV",
    "outputId": "2751afaf-ab47-43f9-ef89-4c13154674b8"
   },
   "outputs": [
    {
     "data": {
      "text/plain": [
       "((50641, 9), (1439, 9))"
      ]
     },
     "execution_count": 78,
     "metadata": {},
     "output_type": "execute_result"
    }
   ],
   "source": [
    "X_train_scaled.shape, X_test_scaled.shape"
   ]
  },
  {
   "cell_type": "code",
   "execution_count": 79,
   "metadata": {
    "colab": {
     "base_uri": "https://localhost:8080/"
    },
    "id": "RaK3Q8fYQ3Ks",
    "outputId": "ec13d87f-d900-485d-a198-c40585a237f5"
   },
   "outputs": [
    {
     "name": "stdout",
     "output_type": "stream",
     "text": [
      "Forma de X_train_seq: (50621, 20, 9)\n",
      "Forma de X_test_seq: (1419, 20, 9)\n",
      "Forma de y_train_seq: (50621,)\n",
      "Forma de y_test_seq: (1419,)\n"
     ]
    }
   ],
   "source": [
    "# Definir el número de timesteps (ventana de tiempo)\n",
    "timesteps = 20\n",
    "\n",
    "# Crear secuencias para X_train y X_test\n",
    "def create_sequences(X, y, timesteps):\n",
    "    Xs, ys = [], []\n",
    "    for i in range(len(X) - timesteps):\n",
    "        Xs.append(X[i:i + timesteps])  # Extrae una ventana de tiempo de tamaño \"timesteps\"\n",
    "        ys.append(y.iloc[i + timesteps])  # Valor a predecir después de la ventana de tiempo\n",
    "    return np.array(Xs), np.array(ys)\n",
    "\n",
    "X_train_seq, y_train_seq = create_sequences(X_train_scaled, y_train, timesteps)\n",
    "X_test_seq, y_test_seq = create_sequences(X_test_scaled, y_test, timesteps)\n",
    "\n",
    "# Comprobación de las nuevas formas\n",
    "print(\"Forma de X_train_seq:\", X_train_seq.shape)\n",
    "print(\"Forma de X_test_seq:\", X_test_seq.shape)\n",
    "print(\"Forma de y_train_seq:\", y_train_seq.shape)\n",
    "print(\"Forma de y_test_seq:\", y_test_seq.shape)"
   ]
  },
  {
   "cell_type": "code",
   "execution_count": 80,
   "metadata": {
    "id": "ayITnjzAiHAy"
   },
   "outputs": [],
   "source": [
    "from sklearn.preprocessing import MinMaxScaler\n",
    "\n",
    "scaler_y = MinMaxScaler()\n",
    "y_train_seq_scaled = scaler_y.fit_transform(y_train_seq.reshape(-1, 1))\n",
    "y_test_seq_scaled = scaler_y.transform(y_test_seq.reshape(-1, 1))"
   ]
  },
  {
   "cell_type": "code",
   "execution_count": 90,
   "metadata": {
    "colab": {
     "base_uri": "https://localhost:8080/"
    },
    "collapsed": true,
    "id": "agQDsSbsKE4X",
    "outputId": "802dcadd-3937-46dd-cee0-6e41a8a70043"
   },
   "outputs": [
    {
     "name": "stderr",
     "output_type": "stream",
     "text": [
      "/usr/local/lib/python3.10/dist-packages/keras/src/layers/rnn/rnn.py:204: UserWarning: Do not pass an `input_shape`/`input_dim` argument to a layer. When using Sequential models, prefer using an `Input(shape)` object as the first layer in the model instead.\n",
      "  super().__init__(**kwargs)\n"
     ]
    },
    {
     "name": "stdout",
     "output_type": "stream",
     "text": [
      "Epoch 1/100\n",
      "\u001b[1m1424/1424\u001b[0m \u001b[32m━━━━━━━━━━━━━━━━━━━━\u001b[0m\u001b[37m\u001b[0m \u001b[1m11s\u001b[0m 7ms/step - loss: 0.0510 - val_loss: 0.0026\n",
      "Epoch 2/100\n",
      "\u001b[1m1424/1424\u001b[0m \u001b[32m━━━━━━━━━━━━━━━━━━━━\u001b[0m\u001b[37m\u001b[0m \u001b[1m7s\u001b[0m 5ms/step - loss: 0.0057 - val_loss: 2.7586e-04\n",
      "Epoch 3/100\n",
      "\u001b[1m1424/1424\u001b[0m \u001b[32m━━━━━━━━━━━━━━━━━━━━\u001b[0m\u001b[37m\u001b[0m \u001b[1m11s\u001b[0m 5ms/step - loss: 0.0026 - val_loss: 2.6718e-04\n",
      "Epoch 4/100\n",
      "\u001b[1m1424/1424\u001b[0m \u001b[32m━━━━━━━━━━━━━━━━━━━━\u001b[0m\u001b[37m\u001b[0m \u001b[1m8s\u001b[0m 5ms/step - loss: 0.0015 - val_loss: 2.6132e-04\n",
      "Epoch 5/100\n",
      "\u001b[1m1424/1424\u001b[0m \u001b[32m━━━━━━━━━━━━━━━━━━━━\u001b[0m\u001b[37m\u001b[0m \u001b[1m9s\u001b[0m 6ms/step - loss: 0.0011 - val_loss: 1.5964e-04\n",
      "Epoch 6/100\n",
      "\u001b[1m1424/1424\u001b[0m \u001b[32m━━━━━━━━━━━━━━━━━━━━\u001b[0m\u001b[37m\u001b[0m \u001b[1m9s\u001b[0m 6ms/step - loss: 9.1035e-04 - val_loss: 1.1080e-04\n",
      "Epoch 7/100\n",
      "\u001b[1m1424/1424\u001b[0m \u001b[32m━━━━━━━━━━━━━━━━━━━━\u001b[0m\u001b[37m\u001b[0m \u001b[1m6s\u001b[0m 4ms/step - loss: 7.5954e-04 - val_loss: 1.4514e-04\n",
      "Epoch 8/100\n",
      "\u001b[1m1424/1424\u001b[0m \u001b[32m━━━━━━━━━━━━━━━━━━━━\u001b[0m\u001b[37m\u001b[0m \u001b[1m11s\u001b[0m 5ms/step - loss: 6.4455e-04 - val_loss: 9.0968e-05\n",
      "Epoch 9/100\n",
      "\u001b[1m1424/1424\u001b[0m \u001b[32m━━━━━━━━━━━━━━━━━━━━\u001b[0m\u001b[37m\u001b[0m \u001b[1m11s\u001b[0m 6ms/step - loss: 5.5174e-04 - val_loss: 4.1426e-05\n",
      "Epoch 10/100\n",
      "\u001b[1m1424/1424\u001b[0m \u001b[32m━━━━━━━━━━━━━━━━━━━━\u001b[0m\u001b[37m\u001b[0m \u001b[1m9s\u001b[0m 5ms/step - loss: 5.5569e-04 - val_loss: 6.2160e-05\n",
      "Epoch 11/100\n",
      "\u001b[1m1424/1424\u001b[0m \u001b[32m━━━━━━━━━━━━━━━━━━━━\u001b[0m\u001b[37m\u001b[0m \u001b[1m10s\u001b[0m 5ms/step - loss: 5.1853e-04 - val_loss: 2.6219e-05\n",
      "Epoch 12/100\n",
      "\u001b[1m1424/1424\u001b[0m \u001b[32m━━━━━━━━━━━━━━━━━━━━\u001b[0m\u001b[37m\u001b[0m \u001b[1m11s\u001b[0m 5ms/step - loss: 4.9575e-04 - val_loss: 2.9983e-05\n",
      "Epoch 13/100\n",
      "\u001b[1m1424/1424\u001b[0m \u001b[32m━━━━━━━━━━━━━━━━━━━━\u001b[0m\u001b[37m\u001b[0m \u001b[1m9s\u001b[0m 6ms/step - loss: 4.6170e-04 - val_loss: 7.6379e-05\n",
      "Epoch 14/100\n",
      "\u001b[1m1424/1424\u001b[0m \u001b[32m━━━━━━━━━━━━━━━━━━━━\u001b[0m\u001b[37m\u001b[0m \u001b[1m8s\u001b[0m 5ms/step - loss: 4.3216e-04 - val_loss: 2.0214e-05\n",
      "Epoch 15/100\n",
      "\u001b[1m1424/1424\u001b[0m \u001b[32m━━━━━━━━━━━━━━━━━━━━\u001b[0m\u001b[37m\u001b[0m \u001b[1m11s\u001b[0m 5ms/step - loss: 4.4490e-04 - val_loss: 3.6206e-05\n",
      "Epoch 16/100\n",
      "\u001b[1m1424/1424\u001b[0m \u001b[32m━━━━━━━━━━━━━━━━━━━━\u001b[0m\u001b[37m\u001b[0m \u001b[1m12s\u001b[0m 6ms/step - loss: 4.4198e-04 - val_loss: 2.0558e-05\n",
      "Epoch 17/100\n",
      "\u001b[1m1424/1424\u001b[0m \u001b[32m━━━━━━━━━━━━━━━━━━━━\u001b[0m\u001b[37m\u001b[0m \u001b[1m10s\u001b[0m 5ms/step - loss: 4.1016e-04 - val_loss: 1.3330e-05\n",
      "Epoch 18/100\n",
      "\u001b[1m1424/1424\u001b[0m \u001b[32m━━━━━━━━━━━━━━━━━━━━\u001b[0m\u001b[37m\u001b[0m \u001b[1m9s\u001b[0m 5ms/step - loss: 4.1572e-04 - val_loss: 3.1922e-05\n",
      "Epoch 19/100\n",
      "\u001b[1m1424/1424\u001b[0m \u001b[32m━━━━━━━━━━━━━━━━━━━━\u001b[0m\u001b[37m\u001b[0m \u001b[1m11s\u001b[0m 5ms/step - loss: 4.1341e-04 - val_loss: 1.0044e-05\n",
      "Epoch 20/100\n",
      "\u001b[1m1424/1424\u001b[0m \u001b[32m━━━━━━━━━━━━━━━━━━━━\u001b[0m\u001b[37m\u001b[0m \u001b[1m11s\u001b[0m 6ms/step - loss: 4.1201e-04 - val_loss: 1.4422e-05\n",
      "Epoch 21/100\n",
      "\u001b[1m1424/1424\u001b[0m \u001b[32m━━━━━━━━━━━━━━━━━━━━\u001b[0m\u001b[37m\u001b[0m \u001b[1m7s\u001b[0m 5ms/step - loss: 4.1193e-04 - val_loss: 1.0935e-05\n",
      "Epoch 22/100\n",
      "\u001b[1m1424/1424\u001b[0m \u001b[32m━━━━━━━━━━━━━━━━━━━━\u001b[0m\u001b[37m\u001b[0m \u001b[1m10s\u001b[0m 5ms/step - loss: 3.9941e-04 - val_loss: 4.7866e-05\n",
      "Epoch 23/100\n",
      "\u001b[1m1424/1424\u001b[0m \u001b[32m━━━━━━━━━━━━━━━━━━━━\u001b[0m\u001b[37m\u001b[0m \u001b[1m9s\u001b[0m 6ms/step - loss: 3.9731e-04 - val_loss: 2.3615e-05\n",
      "Epoch 24/100\n",
      "\u001b[1m1424/1424\u001b[0m \u001b[32m━━━━━━━━━━━━━━━━━━━━\u001b[0m\u001b[37m\u001b[0m \u001b[1m8s\u001b[0m 5ms/step - loss: 4.0904e-04 - val_loss: 2.3932e-05\n",
      "Epoch 25/100\n",
      "\u001b[1m1424/1424\u001b[0m \u001b[32m━━━━━━━━━━━━━━━━━━━━\u001b[0m\u001b[37m\u001b[0m \u001b[1m8s\u001b[0m 6ms/step - loss: 4.0009e-04 - val_loss: 1.5218e-05\n",
      "Epoch 26/100\n",
      "\u001b[1m1424/1424\u001b[0m \u001b[32m━━━━━━━━━━━━━━━━━━━━\u001b[0m\u001b[37m\u001b[0m \u001b[1m10s\u001b[0m 5ms/step - loss: 4.0308e-04 - val_loss: 6.4101e-05\n",
      "Epoch 27/100\n",
      "\u001b[1m1424/1424\u001b[0m \u001b[32m━━━━━━━━━━━━━━━━━━━━\u001b[0m\u001b[37m\u001b[0m \u001b[1m7s\u001b[0m 5ms/step - loss: 3.9323e-04 - val_loss: 1.6623e-05\n",
      "Epoch 28/100\n",
      "\u001b[1m1424/1424\u001b[0m \u001b[32m━━━━━━━━━━━━━━━━━━━━\u001b[0m\u001b[37m\u001b[0m \u001b[1m8s\u001b[0m 6ms/step - loss: 3.8252e-04 - val_loss: 1.2533e-05\n",
      "Epoch 29/100\n",
      "\u001b[1m1424/1424\u001b[0m \u001b[32m━━━━━━━━━━━━━━━━━━━━\u001b[0m\u001b[37m\u001b[0m \u001b[1m9s\u001b[0m 5ms/step - loss: 4.1017e-04 - val_loss: 2.5780e-05\n",
      "Epoch 30/100\n",
      "\u001b[1m1424/1424\u001b[0m \u001b[32m━━━━━━━━━━━━━━━━━━━━\u001b[0m\u001b[37m\u001b[0m \u001b[1m11s\u001b[0m 5ms/step - loss: 3.9816e-04 - val_loss: 1.9049e-05\n",
      "Epoch 31/100\n",
      "\u001b[1m1424/1424\u001b[0m \u001b[32m━━━━━━━━━━━━━━━━━━━━\u001b[0m\u001b[37m\u001b[0m \u001b[1m12s\u001b[0m 6ms/step - loss: 3.9152e-04 - val_loss: 2.4560e-05\n",
      "Epoch 32/100\n",
      "\u001b[1m1424/1424\u001b[0m \u001b[32m━━━━━━━━━━━━━━━━━━━━\u001b[0m\u001b[37m\u001b[0m \u001b[1m7s\u001b[0m 5ms/step - loss: 3.9588e-04 - val_loss: 9.6905e-06\n",
      "Epoch 33/100\n",
      "\u001b[1m1424/1424\u001b[0m \u001b[32m━━━━━━━━━━━━━━━━━━━━\u001b[0m\u001b[37m\u001b[0m \u001b[1m10s\u001b[0m 5ms/step - loss: 4.0286e-04 - val_loss: 1.3696e-05\n",
      "Epoch 34/100\n",
      "\u001b[1m1424/1424\u001b[0m \u001b[32m━━━━━━━━━━━━━━━━━━━━\u001b[0m\u001b[37m\u001b[0m \u001b[1m9s\u001b[0m 6ms/step - loss: 3.8928e-04 - val_loss: 2.8290e-05\n",
      "Epoch 35/100\n",
      "\u001b[1m1424/1424\u001b[0m \u001b[32m━━━━━━━━━━━━━━━━━━━━\u001b[0m\u001b[37m\u001b[0m \u001b[1m7s\u001b[0m 5ms/step - loss: 3.9574e-04 - val_loss: 1.7221e-05\n",
      "Epoch 36/100\n",
      "\u001b[1m1424/1424\u001b[0m \u001b[32m━━━━━━━━━━━━━━━━━━━━\u001b[0m\u001b[37m\u001b[0m \u001b[1m9s\u001b[0m 6ms/step - loss: 3.8362e-04 - val_loss: 3.5508e-05\n",
      "Epoch 37/100\n",
      "\u001b[1m1424/1424\u001b[0m \u001b[32m━━━━━━━━━━━━━━━━━━━━\u001b[0m\u001b[37m\u001b[0m \u001b[1m8s\u001b[0m 5ms/step - loss: 3.9548e-04 - val_loss: 1.1626e-05\n",
      "Epoch 38/100\n",
      "\u001b[1m1424/1424\u001b[0m \u001b[32m━━━━━━━━━━━━━━━━━━━━\u001b[0m\u001b[37m\u001b[0m \u001b[1m8s\u001b[0m 6ms/step - loss: 4.0636e-04 - val_loss: 1.9850e-05\n",
      "Epoch 39/100\n",
      "\u001b[1m1424/1424\u001b[0m \u001b[32m━━━━━━━━━━━━━━━━━━━━\u001b[0m\u001b[37m\u001b[0m \u001b[1m10s\u001b[0m 6ms/step - loss: 3.9612e-04 - val_loss: 1.0243e-05\n",
      "Epoch 40/100\n",
      "\u001b[1m1424/1424\u001b[0m \u001b[32m━━━━━━━━━━━━━━━━━━━━\u001b[0m\u001b[37m\u001b[0m \u001b[1m9s\u001b[0m 5ms/step - loss: 3.8668e-04 - val_loss: 1.3333e-05\n",
      "Epoch 41/100\n",
      "\u001b[1m1424/1424\u001b[0m \u001b[32m━━━━━━━━━━━━━━━━━━━━\u001b[0m\u001b[37m\u001b[0m \u001b[1m8s\u001b[0m 6ms/step - loss: 3.9914e-04 - val_loss: 8.8056e-06\n",
      "Epoch 42/100\n",
      "\u001b[1m1424/1424\u001b[0m \u001b[32m━━━━━━━━━━━━━━━━━━━━\u001b[0m\u001b[37m\u001b[0m \u001b[1m10s\u001b[0m 6ms/step - loss: 3.8856e-04 - val_loss: 1.8459e-05\n",
      "Epoch 43/100\n",
      "\u001b[1m1424/1424\u001b[0m \u001b[32m━━━━━━━━━━━━━━━━━━━━\u001b[0m\u001b[37m\u001b[0m \u001b[1m9s\u001b[0m 5ms/step - loss: 3.9779e-04 - val_loss: 1.5176e-05\n",
      "Epoch 44/100\n",
      "\u001b[1m1424/1424\u001b[0m \u001b[32m━━━━━━━━━━━━━━━━━━━━\u001b[0m\u001b[37m\u001b[0m \u001b[1m9s\u001b[0m 6ms/step - loss: 3.9641e-04 - val_loss: 1.1968e-05\n",
      "Epoch 45/100\n",
      "\u001b[1m1424/1424\u001b[0m \u001b[32m━━━━━━━━━━━━━━━━━━━━\u001b[0m\u001b[37m\u001b[0m \u001b[1m7s\u001b[0m 5ms/step - loss: 4.0001e-04 - val_loss: 1.0369e-05\n",
      "Epoch 46/100\n",
      "\u001b[1m1424/1424\u001b[0m \u001b[32m━━━━━━━━━━━━━━━━━━━━\u001b[0m\u001b[37m\u001b[0m \u001b[1m9s\u001b[0m 6ms/step - loss: 4.0299e-04 - val_loss: 1.8028e-05\n",
      "Epoch 47/100\n",
      "\u001b[1m1424/1424\u001b[0m \u001b[32m━━━━━━━━━━━━━━━━━━━━\u001b[0m\u001b[37m\u001b[0m \u001b[1m8s\u001b[0m 5ms/step - loss: 3.8633e-04 - val_loss: 9.0403e-06\n",
      "Epoch 48/100\n",
      "\u001b[1m1424/1424\u001b[0m \u001b[32m━━━━━━━━━━━━━━━━━━━━\u001b[0m\u001b[37m\u001b[0m \u001b[1m8s\u001b[0m 6ms/step - loss: 3.8935e-04 - val_loss: 1.3154e-05\n",
      "Epoch 49/100\n",
      "\u001b[1m1424/1424\u001b[0m \u001b[32m━━━━━━━━━━━━━━━━━━━━\u001b[0m\u001b[37m\u001b[0m \u001b[1m10s\u001b[0m 6ms/step - loss: 3.9077e-04 - val_loss: 8.6412e-06\n",
      "Epoch 50/100\n",
      "\u001b[1m1424/1424\u001b[0m \u001b[32m━━━━━━━━━━━━━━━━━━━━\u001b[0m\u001b[37m\u001b[0m \u001b[1m7s\u001b[0m 5ms/step - loss: 3.8914e-04 - val_loss: 1.0918e-05\n",
      "Epoch 51/100\n",
      "\u001b[1m1424/1424\u001b[0m \u001b[32m━━━━━━━━━━━━━━━━━━━━\u001b[0m\u001b[37m\u001b[0m \u001b[1m8s\u001b[0m 6ms/step - loss: 3.8435e-04 - val_loss: 8.7501e-06\n",
      "Epoch 52/100\n",
      "\u001b[1m1424/1424\u001b[0m \u001b[32m━━━━━━━━━━━━━━━━━━━━\u001b[0m\u001b[37m\u001b[0m \u001b[1m7s\u001b[0m 5ms/step - loss: 3.8783e-04 - val_loss: 1.7454e-05\n",
      "Epoch 53/100\n",
      "\u001b[1m1424/1424\u001b[0m \u001b[32m━━━━━━━━━━━━━━━━━━━━\u001b[0m\u001b[37m\u001b[0m \u001b[1m9s\u001b[0m 6ms/step - loss: 3.8880e-04 - val_loss: 1.6844e-05\n",
      "Epoch 54/100\n",
      "\u001b[1m1424/1424\u001b[0m \u001b[32m━━━━━━━━━━━━━━━━━━━━\u001b[0m\u001b[37m\u001b[0m \u001b[1m7s\u001b[0m 5ms/step - loss: 3.9534e-04 - val_loss: 8.8801e-06\n",
      "Epoch 55/100\n",
      "\u001b[1m1424/1424\u001b[0m \u001b[32m━━━━━━━━━━━━━━━━━━━━\u001b[0m\u001b[37m\u001b[0m \u001b[1m8s\u001b[0m 6ms/step - loss: 3.8315e-04 - val_loss: 1.0933e-05\n",
      "Epoch 56/100\n",
      "\u001b[1m1424/1424\u001b[0m \u001b[32m━━━━━━━━━━━━━━━━━━━━\u001b[0m\u001b[37m\u001b[0m \u001b[1m9s\u001b[0m 5ms/step - loss: 4.0033e-04 - val_loss: 1.5406e-05\n",
      "Epoch 57/100\n",
      "\u001b[1m1424/1424\u001b[0m \u001b[32m━━━━━━━━━━━━━━━━━━━━\u001b[0m\u001b[37m\u001b[0m \u001b[1m8s\u001b[0m 6ms/step - loss: 4.0388e-04 - val_loss: 2.2618e-05\n",
      "Epoch 58/100\n",
      "\u001b[1m1424/1424\u001b[0m \u001b[32m━━━━━━━━━━━━━━━━━━━━\u001b[0m\u001b[37m\u001b[0m \u001b[1m7s\u001b[0m 5ms/step - loss: 3.8107e-04 - val_loss: 1.5529e-05\n",
      "Epoch 59/100\n",
      "\u001b[1m1424/1424\u001b[0m \u001b[32m━━━━━━━━━━━━━━━━━━━━\u001b[0m\u001b[37m\u001b[0m \u001b[1m8s\u001b[0m 6ms/step - loss: 3.8528e-04 - val_loss: 1.2482e-05\n",
      "Epoch 60/100\n",
      "\u001b[1m1424/1424\u001b[0m \u001b[32m━━━━━━━━━━━━━━━━━━━━\u001b[0m\u001b[37m\u001b[0m \u001b[1m11s\u001b[0m 6ms/step - loss: 3.8507e-04 - val_loss: 9.7485e-06\n",
      "Epoch 61/100\n",
      "\u001b[1m1424/1424\u001b[0m \u001b[32m━━━━━━━━━━━━━━━━━━━━\u001b[0m\u001b[37m\u001b[0m \u001b[1m8s\u001b[0m 5ms/step - loss: 3.8864e-04 - val_loss: 1.0673e-05\n",
      "Epoch 62/100\n",
      "\u001b[1m1424/1424\u001b[0m \u001b[32m━━━━━━━━━━━━━━━━━━━━\u001b[0m\u001b[37m\u001b[0m \u001b[1m11s\u001b[0m 5ms/step - loss: 3.8211e-04 - val_loss: 1.1557e-05\n",
      "Epoch 63/100\n",
      "\u001b[1m1424/1424\u001b[0m \u001b[32m━━━━━━━━━━━━━━━━━━━━\u001b[0m\u001b[37m\u001b[0m \u001b[1m11s\u001b[0m 6ms/step - loss: 3.9013e-04 - val_loss: 8.5480e-06\n",
      "Epoch 64/100\n",
      "\u001b[1m1424/1424\u001b[0m \u001b[32m━━━━━━━━━━━━━━━━━━━━\u001b[0m\u001b[37m\u001b[0m \u001b[1m8s\u001b[0m 5ms/step - loss: 3.9348e-04 - val_loss: 1.4479e-05\n",
      "Epoch 65/100\n",
      "\u001b[1m1424/1424\u001b[0m \u001b[32m━━━━━━━━━━━━━━━━━━━━\u001b[0m\u001b[37m\u001b[0m \u001b[1m10s\u001b[0m 5ms/step - loss: 3.7572e-04 - val_loss: 1.8530e-05\n",
      "Epoch 66/100\n",
      "\u001b[1m1424/1424\u001b[0m \u001b[32m━━━━━━━━━━━━━━━━━━━━\u001b[0m\u001b[37m\u001b[0m \u001b[1m11s\u001b[0m 6ms/step - loss: 3.9144e-04 - val_loss: 4.5227e-05\n",
      "Epoch 67/100\n",
      "\u001b[1m1424/1424\u001b[0m \u001b[32m━━━━━━━━━━━━━━━━━━━━\u001b[0m\u001b[37m\u001b[0m \u001b[1m8s\u001b[0m 6ms/step - loss: 3.9700e-04 - val_loss: 1.0716e-05\n",
      "Epoch 68/100\n",
      "\u001b[1m1424/1424\u001b[0m \u001b[32m━━━━━━━━━━━━━━━━━━━━\u001b[0m\u001b[37m\u001b[0m \u001b[1m9s\u001b[0m 5ms/step - loss: 3.7924e-04 - val_loss: 9.2304e-06\n",
      "Epoch 69/100\n",
      "\u001b[1m1424/1424\u001b[0m \u001b[32m━━━━━━━━━━━━━━━━━━━━\u001b[0m\u001b[37m\u001b[0m \u001b[1m9s\u001b[0m 6ms/step - loss: 3.8779e-04 - val_loss: 1.6273e-05\n",
      "Epoch 70/100\n",
      "\u001b[1m1424/1424\u001b[0m \u001b[32m━━━━━━━━━━━━━━━━━━━━\u001b[0m\u001b[37m\u001b[0m \u001b[1m7s\u001b[0m 5ms/step - loss: 3.7071e-04 - val_loss: 2.1211e-05\n",
      "Epoch 71/100\n",
      "\u001b[1m1424/1424\u001b[0m \u001b[32m━━━━━━━━━━━━━━━━━━━━\u001b[0m\u001b[37m\u001b[0m \u001b[1m9s\u001b[0m 6ms/step - loss: 3.7966e-04 - val_loss: 1.0932e-05\n",
      "Epoch 72/100\n",
      "\u001b[1m1424/1424\u001b[0m \u001b[32m━━━━━━━━━━━━━━━━━━━━\u001b[0m\u001b[37m\u001b[0m \u001b[1m9s\u001b[0m 5ms/step - loss: 3.8981e-04 - val_loss: 1.3726e-05\n",
      "Epoch 73/100\n",
      "\u001b[1m1424/1424\u001b[0m \u001b[32m━━━━━━━━━━━━━━━━━━━━\u001b[0m\u001b[37m\u001b[0m \u001b[1m7s\u001b[0m 5ms/step - loss: 3.7480e-04 - val_loss: 1.1646e-05\n",
      "Epoch 74/100\n",
      "\u001b[1m1424/1424\u001b[0m \u001b[32m━━━━━━━━━━━━━━━━━━━━\u001b[0m\u001b[37m\u001b[0m \u001b[1m11s\u001b[0m 6ms/step - loss: 3.7932e-04 - val_loss: 1.2062e-05\n",
      "Epoch 75/100\n",
      "\u001b[1m1424/1424\u001b[0m \u001b[32m━━━━━━━━━━━━━━━━━━━━\u001b[0m\u001b[37m\u001b[0m \u001b[1m7s\u001b[0m 5ms/step - loss: 3.7409e-04 - val_loss: 1.0904e-05\n",
      "Epoch 76/100\n",
      "\u001b[1m1424/1424\u001b[0m \u001b[32m━━━━━━━━━━━━━━━━━━━━\u001b[0m\u001b[37m\u001b[0m \u001b[1m11s\u001b[0m 5ms/step - loss: 3.8668e-04 - val_loss: 1.0420e-05\n",
      "Epoch 77/100\n",
      "\u001b[1m1424/1424\u001b[0m \u001b[32m━━━━━━━━━━━━━━━━━━━━\u001b[0m\u001b[37m\u001b[0m \u001b[1m9s\u001b[0m 6ms/step - loss: 3.9123e-04 - val_loss: 1.4719e-05\n",
      "Epoch 78/100\n",
      "\u001b[1m1424/1424\u001b[0m \u001b[32m━━━━━━━━━━━━━━━━━━━━\u001b[0m\u001b[37m\u001b[0m \u001b[1m7s\u001b[0m 5ms/step - loss: 3.9588e-04 - val_loss: 1.3502e-05\n",
      "Epoch 79/100\n",
      "\u001b[1m1424/1424\u001b[0m \u001b[32m━━━━━━━━━━━━━━━━━━━━\u001b[0m\u001b[37m\u001b[0m \u001b[1m11s\u001b[0m 5ms/step - loss: 3.8195e-04 - val_loss: 8.4205e-06\n",
      "Epoch 80/100\n",
      "\u001b[1m1424/1424\u001b[0m \u001b[32m━━━━━━━━━━━━━━━━━━━━\u001b[0m\u001b[37m\u001b[0m \u001b[1m8s\u001b[0m 6ms/step - loss: 3.7841e-04 - val_loss: 1.0142e-05\n",
      "Epoch 81/100\n",
      "\u001b[1m1424/1424\u001b[0m \u001b[32m━━━━━━━━━━━━━━━━━━━━\u001b[0m\u001b[37m\u001b[0m \u001b[1m7s\u001b[0m 5ms/step - loss: 3.8128e-04 - val_loss: 1.0580e-05\n",
      "Epoch 82/100\n",
      "\u001b[1m1424/1424\u001b[0m \u001b[32m━━━━━━━━━━━━━━━━━━━━\u001b[0m\u001b[37m\u001b[0m \u001b[1m9s\u001b[0m 6ms/step - loss: 3.8517e-04 - val_loss: 1.3649e-05\n",
      "Epoch 83/100\n",
      "\u001b[1m1424/1424\u001b[0m \u001b[32m━━━━━━━━━━━━━━━━━━━━\u001b[0m\u001b[37m\u001b[0m \u001b[1m10s\u001b[0m 6ms/step - loss: 3.8230e-04 - val_loss: 8.4687e-06\n",
      "Epoch 84/100\n",
      "\u001b[1m1424/1424\u001b[0m \u001b[32m━━━━━━━━━━━━━━━━━━━━\u001b[0m\u001b[37m\u001b[0m \u001b[1m9s\u001b[0m 6ms/step - loss: 3.9799e-04 - val_loss: 1.8722e-05\n",
      "Epoch 85/100\n",
      "\u001b[1m1424/1424\u001b[0m \u001b[32m━━━━━━━━━━━━━━━━━━━━\u001b[0m\u001b[37m\u001b[0m \u001b[1m7s\u001b[0m 5ms/step - loss: 3.8443e-04 - val_loss: 1.2120e-05\n",
      "Epoch 86/100\n",
      "\u001b[1m1424/1424\u001b[0m \u001b[32m━━━━━━━━━━━━━━━━━━━━\u001b[0m\u001b[37m\u001b[0m \u001b[1m10s\u001b[0m 5ms/step - loss: 3.9373e-04 - val_loss: 9.3079e-06\n",
      "Epoch 87/100\n",
      "\u001b[1m1424/1424\u001b[0m \u001b[32m━━━━━━━━━━━━━━━━━━━━\u001b[0m\u001b[37m\u001b[0m \u001b[1m11s\u001b[0m 5ms/step - loss: 3.8436e-04 - val_loss: 9.1626e-06\n",
      "Epoch 88/100\n",
      "\u001b[1m1424/1424\u001b[0m \u001b[32m━━━━━━━━━━━━━━━━━━━━\u001b[0m\u001b[37m\u001b[0m \u001b[1m11s\u001b[0m 6ms/step - loss: 3.7978e-04 - val_loss: 3.5834e-05\n",
      "Epoch 89/100\n",
      "\u001b[1m1424/1424\u001b[0m \u001b[32m━━━━━━━━━━━━━━━━━━━━\u001b[0m\u001b[37m\u001b[0m \u001b[1m9s\u001b[0m 5ms/step - loss: 3.8531e-04 - val_loss: 1.8707e-05\n",
      "Epoch 90/100\n",
      "\u001b[1m1424/1424\u001b[0m \u001b[32m━━━━━━━━━━━━━━━━━━━━\u001b[0m\u001b[37m\u001b[0m \u001b[1m9s\u001b[0m 5ms/step - loss: 3.8372e-04 - val_loss: 1.3982e-05\n",
      "Epoch 91/100\n",
      "\u001b[1m1424/1424\u001b[0m \u001b[32m━━━━━━━━━━━━━━━━━━━━\u001b[0m\u001b[37m\u001b[0m \u001b[1m9s\u001b[0m 6ms/step - loss: 3.8462e-04 - val_loss: 1.5862e-05\n",
      "Epoch 92/100\n",
      "\u001b[1m1424/1424\u001b[0m \u001b[32m━━━━━━━━━━━━━━━━━━━━\u001b[0m\u001b[37m\u001b[0m \u001b[1m9s\u001b[0m 5ms/step - loss: 3.7396e-04 - val_loss: 1.3824e-05\n",
      "Epoch 93/100\n",
      "\u001b[1m1424/1424\u001b[0m \u001b[32m━━━━━━━━━━━━━━━━━━━━\u001b[0m\u001b[37m\u001b[0m \u001b[1m10s\u001b[0m 5ms/step - loss: 3.9159e-04 - val_loss: 1.0893e-05\n",
      "Epoch 94/100\n",
      "\u001b[1m1424/1424\u001b[0m \u001b[32m━━━━━━━━━━━━━━━━━━━━\u001b[0m\u001b[37m\u001b[0m \u001b[1m11s\u001b[0m 6ms/step - loss: 3.8535e-04 - val_loss: 1.1798e-05\n",
      "Epoch 95/100\n",
      "\u001b[1m1424/1424\u001b[0m \u001b[32m━━━━━━━━━━━━━━━━━━━━\u001b[0m\u001b[37m\u001b[0m \u001b[1m8s\u001b[0m 6ms/step - loss: 3.9785e-04 - val_loss: 1.2580e-05\n",
      "Epoch 96/100\n",
      "\u001b[1m1424/1424\u001b[0m \u001b[32m━━━━━━━━━━━━━━━━━━━━\u001b[0m\u001b[37m\u001b[0m \u001b[1m9s\u001b[0m 5ms/step - loss: 3.8291e-04 - val_loss: 1.1365e-05\n",
      "Epoch 97/100\n",
      "\u001b[1m1424/1424\u001b[0m \u001b[32m━━━━━━━━━━━━━━━━━━━━\u001b[0m\u001b[37m\u001b[0m \u001b[1m9s\u001b[0m 6ms/step - loss: 3.7458e-04 - val_loss: 1.0133e-05\n",
      "Epoch 98/100\n",
      "\u001b[1m1424/1424\u001b[0m \u001b[32m━━━━━━━━━━━━━━━━━━━━\u001b[0m\u001b[37m\u001b[0m \u001b[1m9s\u001b[0m 5ms/step - loss: 3.9481e-04 - val_loss: 1.3076e-05\n",
      "Epoch 99/100\n",
      "\u001b[1m1424/1424\u001b[0m \u001b[32m━━━━━━━━━━━━━━━━━━━━\u001b[0m\u001b[37m\u001b[0m \u001b[1m9s\u001b[0m 5ms/step - loss: 3.8886e-04 - val_loss: 1.1124e-05\n",
      "Epoch 100/100\n",
      "\u001b[1m1424/1424\u001b[0m \u001b[32m━━━━━━━━━━━━━━━━━━━━\u001b[0m\u001b[37m\u001b[0m \u001b[1m11s\u001b[0m 5ms/step - loss: 3.7868e-04 - val_loss: 1.0058e-05\n",
      "Tiempo de ejecución del fit: 15.09 minutos\n"
     ]
    }
   ],
   "source": [
    "from keras.models import Sequential\n",
    "from keras.layers import GRU, Dense, Dropout\n",
    "from keras.optimizers import Adam\n",
    "from keras.callbacks import EarlyStopping\n",
    "import time\n",
    "\n",
    "optimizer = Adam(learning_rate=0.0001)\n",
    "# Construir el modelo\n",
    "regressorGRU = Sequential()\n",
    "regressorGRU.add(GRU(units=128, return_sequences=False, input_shape=(timesteps, X_train_seq.shape[2]), activation = 'tanh'))\n",
    "regressorGRU.add(Dropout(0.4))  # Dropout después de la capa GRU\n",
    "regressorGRU.add(Dense(units=1))  # Capa de salida para predicción de un valor\n",
    "\n",
    "# Compilar el modelo\n",
    "regressorGRU.compile(optimizer=optimizer, loss='mse')\n",
    "\n",
    "early_stopping = EarlyStopping(monitor='val_loss', patience=25, restore_best_weights=False)\n",
    "# Entrenar el modelo\n",
    "\n",
    "# Iniciar el temporizador by GPT4-o\n",
    "start_time = time.time()\n",
    "history = regressorGRU.fit(X_train_seq, y_train_seq_scaled, epochs=100, batch_size=32, validation_split=0.1, verbose=1, callbacks=[early_stopping])\n",
    "\n",
    "end_time = time.time()\n",
    "# Calcular y mostrar el tiempo de ejecución en minutos\n",
    "execution_time_minutes = (end_time - start_time) / 60\n",
    "print(f\"Tiempo de ejecución del fit: {execution_time_minutes:.2f} minutos\")"
   ]
  },
  {
   "cell_type": "code",
   "execution_count": 91,
   "metadata": {
    "colab": {
     "base_uri": "https://localhost:8080/",
     "height": 451
    },
    "id": "A2aboixxMR88",
    "outputId": "c808a418-fb0e-42d8-d560-03af5fa990c2"
   },
   "outputs": [
    {
     "data": {
      "image/png": "[encoded data removed]",
      "text/plain": [
       "<Figure size 640x480 with 1 Axes>"
      ]
     },
     "metadata": {},
     "output_type": "display_data"
    }
   ],
   "source": [
    "plt.plot(history.history['loss'], label='Entrenamiento')\n",
    "plt.plot(history.history['val_loss'], label='Validación')\n",
    "plt.xlabel('Épocas')\n",
    "plt.ylabel('MSE Loss')\n",
    "plt.legend()\n",
    "plt.show()"
   ]
  },
  {
   "cell_type": "code",
   "execution_count": 92,
   "metadata": {
    "colab": {
     "base_uri": "https://localhost:8080/"
    },
    "id": "b43eARmkjPoS",
    "outputId": "9de015f9-4cfa-4a06-fc10-72c6219e671a"
   },
   "outputs": [
    {
     "name": "stdout",
     "output_type": "stream",
     "text": [
      "\u001b[1m45/45\u001b[0m \u001b[32m━━━━━━━━━━━━━━━━━━━━\u001b[0m\u001b[37m\u001b[0m \u001b[1m0s\u001b[0m 3ms/step\n"
     ]
    }
   ],
   "source": [
    "y_pred_scaled = regressorGRU.predict(X_test_seq)\n",
    "y_pred = scaler_y.inverse_transform(y_pred_scaled)"
   ]
  },
  {
   "cell_type": "code",
   "execution_count": 93,
   "metadata": {
    "id": "59naULi2Oypg"
   },
   "outputs": [],
   "source": [
    "mse_gru = mean_squared_error(y_test_seq_scaled, y_pred_scaled)\n",
    "mae_gru  = mean_absolute_error(y_test_seq_scaled, y_pred_scaled)"
   ]
  },
  {
   "cell_type": "code",
   "execution_count": 94,
   "metadata": {
    "colab": {
     "base_uri": "https://localhost:8080/"
    },
    "id": "VL-OgQV2O7fZ",
    "outputId": "50d89939-8837-479e-b835-b530e265ef60"
   },
   "outputs": [
    {
     "name": "stdout",
     "output_type": "stream",
     "text": [
      "Resultados de GRU:\n",
      "MSE: 0.000007\n",
      "MAE: 0.001703\n",
      "\n"
     ]
    }
   ],
   "source": [
    "print(\"Resultados de GRU:\")\n",
    "print(f\"MSE: {mse_gru:.6f}\")\n",
    "print(f\"MAE: {mae_gru:.6f}\\n\")"
   ]
  },
  {
   "cell_type": "code",
   "execution_count": 95,
   "metadata": {
    "colab": {
     "base_uri": "https://localhost:8080/",
     "height": 565
    },
    "id": "9CzUf6H_khub",
    "outputId": "1c4aa84e-63c4-4340-ce37-47082ee6beff"
   },
   "outputs": [
    {
     "data": {
      "image/png": "[encoded data removed]",
      "text/plain": [
       "<Figure size 1000x600 with 1 Axes>"
      ]
     },
     "metadata": {},
     "output_type": "display_data"
    }
   ],
   "source": [
    "import matplotlib.pyplot as plt\n",
    "\n",
    "plt.figure(figsize=(10, 6))\n",
    "plt.plot(y_test_seq, label='Valor Real', color='blue')\n",
    "plt.plot(y_pred, label='Predicción', color='red', linestyle='dashed')\n",
    "plt.xlabel('Horas')\n",
    "plt.ylabel('Precio de Cierre')\n",
    "plt.title('Comparación entre Valores Reales y Predicciones')\n",
    "plt.legend()\n",
    "plt.show()\n"
   ]
  }
 ],
 "metadata": {
  "accelerator": "GPU",
  "colab": {
   "gpuType": "T4",
   "provenance": []
  },
  "kernelspec": {
   "display_name": "Python 3",
   "name": "python3"
  },
  "language_info": {
   "name": "python"
  }
 },
 "nbformat": 4,
 "nbformat_minor": 0
}
